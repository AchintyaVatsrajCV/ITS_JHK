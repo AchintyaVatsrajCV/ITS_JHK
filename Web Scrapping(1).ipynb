{
 "cells": [
  {
   "cell_type": "code",
   "execution_count": 1,
   "id": "257df105",
   "metadata": {},
   "outputs": [
    {
     "name": "stdout",
     "output_type": "stream",
     "text": [
      "b'\\n\\n<!doctype html>\\n<html lang=\"en\">\\n  <head>\\n\\t<!-- Designed and Developed By StackX Technologies < stackxtech.com > -->\\n    <meta charset=\"utf-8\">\\n    <meta name=\"viewport\" content=\"width=device-width, initial-scale=1, shrink-to-fit=no\">\\n    <link rel=\"apple-touch-icon\" sizes=\"57x57\" href=\"/static/cybervidyapeeth/img/favicon/apple-icon-57x57.png\">\\n\\t<link rel=\"apple-touch-icon\" sizes=\"60x60\" href=\"/static/cybervidyapeeth/img/favicon/apple-icon-60x60.png\">\\n\\t<link rel=\"apple-touch-icon\" sizes=\"72x72\" href=\"/static/cybervidyapeeth/img/favicon/apple-icon-72x72.png\">\\n\\t<link rel=\"apple-touch-icon\" sizes=\"76x76\" href=\"/static/cybervidyapeeth/img/favicon/apple-icon-76x76.png\">\\n\\t<link rel=\"apple-touch-icon\" sizes=\"114x114\" href=\"/static/cybervidyapeeth/img/favicon/apple-icon-114x114.png\">\\n\\t<link rel=\"apple-touch-icon\" sizes=\"120x120\" href=\"/static/cybervidyapeeth/img/favicon/apple-icon-120x120.png\">\\n\\t<link rel=\"apple-touch-icon\" sizes=\"144x144\" href=\"/static/cybervidyapeeth/img/favicon/apple-icon-144x144.png\">\\n\\t<link rel=\"apple-touch-icon\" sizes=\"152x152\" href=\"/static/cybervidyapeeth/img/favicon/apple-icon-152x152.png\">\\n\\t<link rel=\"apple-touch-icon\" sizes=\"180x180\" href=\"/static/cybervidyapeeth/img/favicon/apple-icon-180x180.png\">\\n\\t<link rel=\"icon\" type=\"image/png\" sizes=\"192x192\"  href=\"/static/cybervidyapeeth/img/favicon/android-icon-192x192.png\">\\n\\t<link rel=\"icon\" type=\"image/png\" sizes=\"32x32\" href=\"/static/cybervidyapeeth/img/favicon/favicon-32x32.png\">\\n\\t<link rel=\"icon\" type=\"image/png\" sizes=\"96x96\" href=\"/static/cybervidyapeeth/img/favicon/favicon-96x96.png\">\\n\\t<link rel=\"icon\" type=\"image/png\" sizes=\"16x16\" href=\"/static/cybervidyapeeth/img/favicon/favicon-16x16.png\">\\n\\t<link rel=\"manifest\" href=\"/static/cybervidyapeeth/img/favicon/manifest.json\">\\n\\t<meta name=\"msapplication-TileColor\" content=\"#ffffff\">\\n\\t<meta name=\"msapplication-TileImage\" content=\"/static/cybervidyapeeth/img/favicon/ms-icon-144x144.png\">\\n\\t<meta name=\"theme-color\" content=\"#ffffff\">\\n    \\n\\t<title> Cyber Vidyapeeth </title>\\n\\t<meta name=\"keywords\" content=\"Cyber Vidyapeeth \" />\\n\\t<meta name=\"description\" content=\"Cyber Vidyapeeth \" />\\n\\n\\t<meta property=\"og:type\" content=\"website\" />\\n\\t<meta property=\"og:title\" content=\"Cyber Vidyapeeth&trade;\" />\\n\\t<meta property=\"og:description\" content=\"Cyber Vidyapeeth\" />\\n\\t<meta property=\"og:image\" content=\"https://cybervidyapeeth.com/static/cybervidyapeeth/images/og_image.png\" />\\n\\t<meta property=\"og:site_name\" content=\"cybervidyapeeth.com\" />\\n\\t\\n\\t<meta name=\"twitter:card\" content=\"summary\" />\\n\\t<meta name=\"twitter:title\" content=\"Cyber Vidyapeeth&trade;\" />\\n\\t<meta name=\"twitter:description\" content=\"Cyber Vidyapeeth\" />\\n\\t<meta name=\"twitter:image\" content=\"https://cybervidyapeeth.in/static/cybervidyapeeth/images/og_image.png\" />\\n\\n  \\n    <link href=\"/static/cybervidyapeeth/css/bootstrap.min.css\" rel=\"stylesheet\" />\\n\\t<link href=\"/static/cybervidyapeeth/css/dark.css\" rel=\"stylesheet\" type=\"text/css\"/>\\n\\t<link href=\"/static/cybervidyapeeth/css/responsive.css\" rel=\"stylesheet\" type=\"text/css\"/>\\n\\t<link href=\"/static/cybervidyapeeth/css/meanmenu.min.css\" rel=\"stylesheet\" type=\"text/css\"/>\\n\\t<link href=\"/static/cybervidyapeeth/css/flaticon.css\" rel=\"stylesheet\" type=\"text/css\"/>\\n\\t<link href=\"/static/cybervidyapeeth/css/owl.theme.default.min.css\" rel=\"stylesheet\" />\\n\\t<link href=\"/static/cybervidyapeeth/css/owl.carousel.min.css\" rel=\"stylesheet\" />\\n\\t\\n\\t<link href=\"/static/cybervidyapeeth/css/animate.min.css\" rel=\"stylesheet\" type=\"text/css\"/>\\n\\t<link href=\"/static/cybervidyapeeth/css/odometer.min.css\" rel=\"stylesheet\" type=\"text/css\"/>\\n\\t\\n\\t<link href=\"/static/cybervidyapeeth/css/style.css?v=2\" rel=\"stylesheet\" type=\"text/css\"/>\\n\\t\\n\\t<!-- <link href=\"https://fonts.googleapis.com/css?family=Poppins:100,100i,200,200i,300,300i,400,400i,500,500i,600,600i,700,700i,800,800i,900,900i\" rel=\"stylesheet\"> -->\\n\\t<link href=\"https://fonts.googleapis.com/css?family=Raleway:100,100i,200,200i,300,300i,400,400i,500,500i,600,600i,700,700i,800,800i,900,900i\" rel=\"stylesheet\">\\n\\t\\n\\t<link rel=\"stylesheet\" href=\"https://cdn.jsdelivr.net/gh/Wruczek/Bootstrap-Cookie-Alert@gh-pages/cookiealert.css\">\\n    \\n\\n    \\n  </head>\\n  <body class=\"body-with-black-color\">\\n\\t<div class=\"new-top-header-area\">\\n        <div class=\"container-fluid\">\\n            <div class=\"row align-items-center\">\\n                <div class=\"col-lg-8 col-sm-8\">\\n                    <ul class=\"header-content-left\">\\n                        <li>\\n                            <a href=\"mailto:mentor@cybervidyapeeth.in\">\\n                                <i class=\"bx bx-envelope\"></i>\\n                                Email: mentor@cybervidyapeeth.in\\n                            </a>\\n                        </li>\\n\\n                        <li>\\n                            <i class=\"bx bx-phone\"></i>\\n\\t\\t\\t\\t\\t\\t\\t<a href=\"tel:+919711147900\">Call: +91 9711147900</a>\\n                        </li>\\n                    </ul>\\n                </div>\\n\\t\\t\\t\\t<div class=\"col-lg-4 col-sm-4\">\\n\\t\\t\\t\\t\\t<ul class=\"header-content-right\">\\n\\t\\t\\t\\t\\t\\t<li>\\n\\t\\t\\t\\t\\t\\t\\t<a href=\"/privacy-policy\">\\n\\t\\t\\t\\t\\t\\t\\t\\tPrivacy Policy\\n\\t\\t\\t\\t\\t\\t\\t</a>\\n\\t\\t\\t\\t\\t\\t</li>\\n\\t\\t\\t\\t\\t\\t<li>\\n\\t\\t\\t\\t\\t\\t\\t<a href=\"/terms-conditions\">\\n\\t\\t\\t\\t\\t\\t\\t\\tTerms & Conditions\\n\\t\\t\\t\\t\\t\\t\\t</a>\\n\\t\\t\\t\\t\\t\\t</li>\\n\\t\\t\\t\\t\\t\\t<li>\\n\\t\\t\\t\\t\\t\\t\\t<a href=\"/refund-policy\">\\n\\t\\t\\t\\t\\t\\t\\t\\tRefund Policy\\n\\t\\t\\t\\t\\t\\t\\t</a>\\n\\t\\t\\t\\t\\t\\t</li>\\n\\t\\t\\t\\t\\t</ul>\\n\\t\\t\\t\\t</div>\\n            </div>\\n\\t\\t\\t<div class=\"row align-items-center\">\\n\\t\\t\\t\\t<div class=\"col-12\">\\n\\t\\t\\t\\t\\t<!-- <span class=\"text-danger\"><i class=\\'bx bxs-bell-ring\\' style=\"color: #d80650\"></i> Join our courses <a href=\"/courses/pg-diploma-in-cyber-defense/\" class=\"text-white\">PG Diploma In Cyber Defense</a>&nbsp;<span class=\"badge bg-danger\">5% Off</span> & <a href=\"/training/acharya/\" class=\"text-white\">Cyber Rakshak ACHARYA</a> &nbsp;PLEASE JOIN THE TELEGRAM GROUP FOR INSTANT UPDATES : <a style=\"display:inline;font-size:16px;font-weight:500;text-align:center;border-radius:8px;padding:5px;background:#389ce9;text-decoration:none;color:#fff;\" href=\"https://tttttt.me/+f9hPinTRZdUxNDFl\" target=\"_blank\"><svg style=\"width:30px;height:20px;vertical-align:middle;margin:0px 5px;\" viewBox=\"0 0 21 18\"><g fill=\"none\"><path fill=\"#ffffff\" d=\"M0.554,7.092 L19.117,0.078 C19.737,-0.156 20.429,0.156 20.663,0.776 C20.745,0.994 20.763,1.23 20.713,1.457 L17.513,16.059 C17.351,16.799 16.62,17.268 15.88,17.105 C15.696,17.065 15.523,16.987 15.37,16.877 L8.997,12.271 C8.614,11.994 8.527,11.458 8.805,11.074 C8.835,11.033 8.869,10.994 8.905,10.958 L15.458,4.661 C15.594,4.53 15.598,4.313 15.467,4.176 C15.354,4.059 15.174,4.037 15.036,4.125 L6.104,9.795 C5.575,10.131 4.922,10.207 4.329,10.002 L0.577,8.704 C0.13,8.55 -0.107,8.061 0.047,7.614 C0.131,7.374 0.316,7.182 0.554,7.092 Z\"></path></g></svg>Telegram&nbsp;&nbsp;&nbsp;</a></span> -->\\n\\t\\t\\t\\t\\t<span class=\"text-danger\"><i class=\\'bx bxs-bell-ring\\' style=\"color: #d80650\"></i> Join our courses <a href=\"/courses/pg-diploma-in-cyber-defense/\" class=\"text-white\">PG Diploma In Cyber Defense</a>&nbsp;PLEASE JOIN THE TELEGRAM GROUP FOR INSTANT UPDATES : <a style=\"display:inline;font-size:16px;font-weight:500;text-align:center;border-radius:8px;padding:5px;background:#389ce9;text-decoration:none;color:#fff;\" href=\"https://tttttt.me/+f9hPinTRZdUxNDFl\" target=\"_blank\"><svg style=\"width:30px;height:20px;vertical-align:middle;margin:0px 5px;\" viewBox=\"0 0 21 18\"><g fill=\"none\"><path fill=\"#ffffff\" d=\"M0.554,7.092 L19.117,0.078 C19.737,-0.156 20.429,0.156 20.663,0.776 C20.745,0.994 20.763,1.23 20.713,1.457 L17.513,16.059 C17.351,16.799 16.62,17.268 15.88,17.105 C15.696,17.065 15.523,16.987 15.37,16.877 L8.997,12.271 C8.614,11.994 8.527,11.458 8.805,11.074 C8.835,11.033 8.869,10.994 8.905,10.958 L15.458,4.661 C15.594,4.53 15.598,4.313 15.467,4.176 C15.354,4.059 15.174,4.037 15.036,4.125 L6.104,9.795 C5.575,10.131 4.922,10.207 4.329,10.002 L0.577,8.704 C0.13,8.55 -0.107,8.061 0.047,7.614 C0.131,7.374 0.316,7.182 0.554,7.092 Z\"></path></g></svg>Telegram&nbsp;&nbsp;&nbsp;</a></span> \\n\\t\\t\\t\\t</div>\\n\\t\\t\\t</div>\\n        </div>\\n    </div>\\n\\n\\t<div class=\"seku-new-nav-area nav-with-black-color\">\\n        <div class=\"navbar-area\">\\n            <div class=\"mobile-nav\">\\n                <a href=\"/\" class=\"logo\">\\n                    <img src=\"/static/cybervidyapeeth/img/logo.webp\" alt=\"Logo\">\\n                </a>\\n            </div>\\n            <div class=\"main-nav\">\\n                <nav class=\"navbar navbar-expand-md\">\\n                    <div class=\"container-fluid\">\\n                        <a class=\"navbar-brand\" href=\"/\">\\n                            <img src=\"/static/cybervidyapeeth/img/logo.webp\" alt=\"Logo\">\\n                        </a>\\n\\n                        <div class=\"collapse navbar-collapse mean-menu\">\\n                            <ul class=\"navbar-nav m-auto\">\\n                                <li class=\"nav-item\">\\n                                    <a href=\"/\" class=\"nav-link\">\\n                                        Home\\n                                    </a>\\n                                </li>\\n\\n                                <li class=\"nav-item\">\\n                                    <a href=\"#\" class=\"nav-link\">\\n                                        About us\\n                                        <i class=\"bx bx-chevron-down\"></i>\\n                                    </a>\\n\\n                                    <ul class=\"dropdown-menu\">\\n                                        <li class=\"nav-item\">\\n                                            <a href=\"/about-cyberversity/\" class=\"nav-link\">About Cyberversity</a>\\n                                        </li>\\n\\n                                        <li class=\"nav-item\">\\n                                            <a href=\"/advisory-board/\" class=\"nav-link\">Advisory Board</a>\\n                                        </li>\\n\\n                                        <li class=\"nav-item\">\\n                                            <a href=\"/leadership/\" class=\"nav-link\">Leadership</a>\\n                                        </li>\\n                                    </ul>\\n                                </li>\\n\\n                                <li class=\"nav-item\">\\n                                    <a href=\"/courses/\" class=\"nav-link\">\\n                                        Courses\\n                                    </a>\\n                                </li>\\n\\n                                <li class=\"nav-item\">\\n                                    <a href=\"/corporate-trainings/\" class=\"nav-link\">\\n                                        Training\\n                                    </a>\\n                                </li>\\n\\n                                <li class=\"nav-item\">\\n                                    <a href=\"/internships/\" class=\"nav-link\">\\n                                        Internships\\n                                    </a>\\n                                </li>\\n\\n\\t\\t\\t\\t\\t\\t\\t\\t<li class=\"nav-item\">\\n                                    <a href=\"/events/\" class=\"nav-link\">\\n                                        Events\\n                                    </a>\\n                                </li>\\n\\n                                <li class=\"nav-item\">\\n                                    <a href=\"/contactus/\" class=\"nav-link\">Contact</a>\\n                                </li>\\n                            </ul>\\n                            <div class=\"others-option d-flex align-items-center\">\\n                                <div class=\"option-item\">\\n                                    <a href=\"https://rzp.io/l/4XojLUbSw\" target=\"_blank\" class=\"default-btn\">Donate</a>\\n                                </div>\\n                            </div>\\n                        </div>\\n                    </div>\\n                </nav>\\n            </div>\\n        </div>\\n    </div>\\n\\t\\t\\n\\t\\n\\n<section class=\"new-main-banner-area-with-black-color\">\\n\\t<div class=\"container-fluid\">\\n\\t\\t<div class=\"row align-items-center\">\\n\\t\\t\\t<div class=\"col-lg-6 col-md-12 pt-4\">\\n\\t\\t\\t\\t<div class=\"new-main-banner-black-content\">\\n\\t\\t\\t\\t\\t<h1 class=\"wow animate__animated animate__fadeInLeft animate-charcter\" data-wow-delay=\"1s\">CYBERVIDYAPEETH</h1>\\n\\t\\t\\t\\t\\t<h2 class=\"wow animate__animated animate__fadeInLeft text-white\" data-wow-delay=\"1s\">Education Entity Dedicated to Cyber Defence</h2>\\n\\t\\t\\t\\t\\t<p class=\"wow animate__animated animate__fadeInRight\" data-wow-delay=\"1s\">CyberVidyapeeth\\'s CyberVersity is on a mission to create 1 Million Cyber Rakshaks for India over the next 5 years.</p>\\n\\n\\t\\t\\t\\t\\t<ul class=\"banner-btn wow animate__animated animate__fadeInUp\" data-wow-delay=\"1s\">\\n\\t\\t\\t\\t\\t\\t<li>\\n\\t\\t\\t\\t\\t\\t\\t<a class=\"default-btn\" href=\"/courses/\">Courses</a>\\n\\t\\t\\t\\t\\t\\t</li>\\n\\t\\t\\t\\t\\t\\t<li>\\n\\t\\t\\t\\t\\t\\t\\t<a class=\"default-btn color-two\" href=\"/corporate-trainings/\">Trainings</a>\\n\\t\\t\\t\\t\\t\\t</li>\\n\\t\\t\\t\\t\\t</ul>\\n\\t\\t\\t\\t</div>\\n\\t\\t\\t</div>\\n\\t\\t\\t<div class=\"col-lg-6 col-md-12\">\\n\\t\\t\\t\\t<div class=\"new-main-banner-black-image\">\\n\\t\\t\\t\\t\\t<img src=\"/static/cybervidyapeeth/img/more-home/banner/home-banner-2.webp\" alt=\"image\">\\n\\t\\t\\t\\t</div>\\n\\t\\t\\t</div>\\n\\t\\t</div>\\n\\t\\t<div class=\"lines-line\">\\n\\t\\t\\t<div class=\"line\"></div>\\n\\t\\t\\t<div class=\"line\"></div>\\n\\t\\t\\t<div class=\"line\"></div>\\n\\t\\t</div>\\n\\t</div>\\n\\n\\t<div class=\"new-main-banner-black-shape\">\\n\\t\\t<img src=\"/static/cybervidyapeeth/img/more-home/banner/line-bg.webp\" alt=\"image\">\\n\\t</div>\\n</section>\\n\\n<section class=\"project-area pb-70 pt-70\">\\n\\t<div class=\"container-fluid p-0\">\\n\\t\\t<div class=\"section-title\">\\n\\t\\t\\t<h2>Active Courses</h2>\\n\\t\\t</div>\\n\\n\\t\\t<div class=\"row\">\\n\\t\\t\\t<div class=\"solutions-wrap owl-carousel owl-theme\">\\n\\t\\t\\t\\t<!-- <a href=\"/training/cyber-rakshak-beginner/\" class=\"read-more\">\\n\\t\\t\\t\\t\\t<div class=\"single-solutions solutions-cyber-bg-rakshak\">\\n\\t\\t\\t\\t\\t\\t<div class=\"solutions-content\">\\n\\t\\t\\t\\t\\t\\t\\t<h3>Cyber Rakshak Beginner - AICTE & CERT.IN</h3>\\n\\t\\t\\t\\t\\t\\t\\t<p>A 30 Days long program to train students on the fundamental cyber security skills.</p>\\n\\t\\t\\t\\t\\t\\t</div>\\n\\t\\t\\t\\t\\t</div>\\n\\t\\t\\t\\t</a>\\n\\t\\t\\t -->\\n\\t\\t\\t\\t<!-- <a href=\"/courses/advance-diploma-in-cyber-defense/\" class=\"read-more\">\\n\\t\\t\\t\\t\\t<div class=\"single-solutions solutions-cyber-bg-1\">\\n\\t\\t\\t\\t\\t\\t<div class=\"solutions-content\">\\n\\t\\t\\t\\t\\t\\t\\t<h3>Advance Diploma in Cyber Defense</h3>\\n\\t\\t\\t\\t\\t\\t\\t<p>A 6 month long program that enables learners to try.</p>\\n\\t\\t\\t\\t\\t\\t</div>\\n\\t\\t\\t\\t\\t</div>\\n\\t\\t\\t\\t</a> -->\\n\\t\\t\\t\\n\\t\\t\\t\\t<a href=\"/courses/pg-diploma-in-cyber-defense/\" class=\"read-more\">\\n\\t\\t\\t\\t\\t<div class=\"single-solutions solutions-cyber-bg-5\">\\n\\t\\t\\t\\t\\t\\t<div class=\"solutions-content\">\\n\\t\\t\\t\\t\\t\\t\\t<h3>PG Diploma in Cyber Defense</h3>\\n\\t\\t\\t\\t\\t\\t\\t<p>A 12 month long Post Graduate Diploma in Cyber Defense conducted by CyberVidyapeeth <br/> in association with Vinoba Bhave University.</p>\\n\\t\\t\\t\\t\\t\\t</div>\\n\\t\\t\\t\\t\\t</div>\\n\\t\\t\\t\\t</a>\\n\\n\\t\\t\\t\\t<!-- <a href=\"/training/acharya/\" class=\"read-more\">\\n\\t\\t\\t\\t\\t<div class=\"single-solutions solutions-cyber-defense-acharya\">\\n\\t\\t\\t\\t\\t\\t<div class=\"solutions-content\">\\n\\t\\t\\t\\t\\t\\t\\t<h3>Cyber Rakshak ACHARYA - IIIT, Ranchi</h3>\\n\\t\\t\\t\\t\\t\\t\\t<p>A 300+ Hours Intense learning Faculty Development Programme on Cyber Defense.</p>\\n\\t\\t\\t\\t\\t\\t</div>\\n\\t\\t\\t\\t\\t</div>\\n\\t\\t\\t\\t</a> -->\\n\\t\\t\\t</div>\\n\\t\\t</div>\\n\\t</div>\\n</section>\\n<div class=\"seku-features-area pb-75\">\\n\\t<div class=\"container\">\\n\\t\\t<div class=\"row justify-content-center\">\\n\\t\\t\\t<div class=\"col-lg-4 col-sm-6\">\\n\\t\\t\\t\\t<div class=\"single-seku-features-card bg-382549\">\\n\\t\\t\\t\\t\\t<h3><img src=\"/static/cybervidyapeeth/img/more-home/features/features-1.png\" alt=\"image\"> Creating Cyber Rakshak</h3>\\n\\t\\t\\t\\t\\t<p>Cybervidyapeeth is creating a Large Pool of Cyber Rakshak aligned to NIST NICE Framework for cyber resilience.<br/>&nbsp;<br/></p>\\n\\t\\t\\t\\t</div>\\n\\t\\t\\t</div>\\n\\n\\t\\t\\t<div class=\"col-lg-4 col-sm-6\">\\n\\t\\t\\t\\t<div class=\"single-seku-features-card bg-382549\">\\n\\t\\t\\t\\t\\t<h3><img src=\"/static/cybervidyapeeth/img/more-home/features/features-2.png\" alt=\"image\"> Research & Development</h3>\\n\\t\\t\\t\\t\\t<p>Mentor research work in Cyber Defense Engineering with active collaboration of Industry, Researcher & Academia. Create & Promote Made In India Technology in Cyber Defense Space.</p>\\n\\t\\t\\t\\t</div>\\n\\t\\t\\t</div>\\n\\n\\t\\t\\t<div class=\"col-lg-4 col-sm-6\">\\n\\t\\t\\t\\t<div class=\"single-seku-features-card bg-382549\">\\n\\t\\t\\t\\t\\t<h3><img src=\"/static/cybervidyapeeth/img/more-home/features/features-3.png\" alt=\"image\"> Discussion & Discourse</h3>\\n\\t\\t\\t\\t\\t<p>Engage & Promote collaboration among Technology, Cyber Professional, industry Academia & Researchers through Webinars, Conferences, Symposium, Events.</p>\\n\\t\\t\\t\\t</div>\\n\\t\\t\\t</div>\\n\\t\\t</div>\\n\\t</div>\\n</div>\\n<section class=\"counter-area-six bg-color pt-100 pb-70\">\\n\\t<div class=\"container\">\\n\\t\\t<div class=\"section-title white-title\">\\n\\t\\t\\t<h2>Why Cybervidyapeeth?</h2>\\n\\t\\t</div>\\n\\t\\t<div class=\"row\">\\n\\t\\t\\t<div class=\"col-lg-3 col-sm-6\">\\n\\t\\t\\t\\t<div class=\"single-counters\">\\n\\t\\t\\t\\t\\t<i class=\"flaticon-cyber\"></i>\\n\\n\\t\\t\\t\\t\\t<h2>\\n\\t\\t\\t\\t\\t\\t<span class=\"odometer\" data-count=\"40\">00</span>\\n\\t\\t\\t\\t\\t\\t<span class=\"target\">+</span>\\n\\t\\t\\t\\t\\t</h2>\\n\\n\\t\\t\\t\\t\\t<p>Corporates</p>\\n\\t\\t\\t\\t</div>\\n\\t\\t\\t</div>\\n\\n\\t\\t\\t<div class=\"col-lg-3 col-sm-6\">\\n\\t\\t\\t\\t<div class=\"single-counters\">\\n\\t\\t\\t\\t\\t<i class=\"flaticon-anti-virus-software\"></i>\\n\\n\\t\\t\\t\\t\\t<h2>\\n\\t\\t\\t\\t\\t\\t<span class=\"odometer\" data-count=\"10\">00</span>\\n\\t\\t\\t\\t\\t\\t<span class=\"target\">+</span>\\n\\t\\t\\t\\t\\t</h2>\\n\\n\\t\\t\\t\\t\\t<p>Universities</p>\\n\\t\\t\\t\\t</div>\\n\\t\\t\\t</div>\\n\\n\\t\\t\\t<div class=\"col-lg-3 col-sm-6\">\\n\\t\\t\\t\\t<div class=\"single-counters\">\\n\\t\\t\\t\\t\\t<i class=\"flaticon-medal\"></i>\\n\\n\\t\\t\\t\\t\\t<h2>\\n\\t\\t\\t\\t\\t\\t<span class=\"odometer\" data-count=\"11000\">00</span>\\n\\t\\t\\t\\t\\t\\t<span class=\"target\">+</span>\\n\\t\\t\\t\\t\\t</h2>\\n\\n\\t\\t\\t\\t\\t<p>Students Trained</p>\\n\\t\\t\\t\\t</div>\\n\\t\\t\\t</div>\\n\\n\\t\\t\\t<div class=\"col-lg-3 col-sm-6\">\\n\\t\\t\\t\\t<div class=\"single-counters\">\\n\\t\\t\\t\\t\\t<i class=\"flaticon-content\"></i>\\n\\n\\t\\t\\t\\t\\t<h2>\\n\\t\\t\\t\\t\\t\\t<span class=\"odometer\" data-count=\"100\">00</span>\\n\\t\\t\\t\\t\\t\\t<span class=\"target\">+</span>\\n\\t\\t\\t\\t\\t</h2>\\n\\n\\t\\t\\t\\t\\t<p>Sessions Conducted</p>\\n\\t\\t\\t\\t</div>\\n\\t\\t\\t</div>\\n\\t\\t</div>\\n\\t</div>\\n</section>\\n\\n<section class=\" pb-100\">\\n\\t<div class=\"container-fluid\">\\n\\t\\t<div class=\"section-title pt-70\">\\n\\t\\t\\t<h2 class=\"\">We reimage cyber-battle ready workforce</h2>\\n\\t\\t\\t<p>by training exceptional individuals from the finest Government and Private Entities</p>\\n\\t\\t</div>\\n\\n\\t\\t<div class=\"partner-area bg-color-f9f9f9 ptb-70\">\\n\\t\\t\\t<div class=\"container-fluid\">\\n\\t\\t\\t\\t<div class=\"row\">\\n\\t\\t\\t\\t\\t<div class=\"partner-slider-six owl-carousel owl-theme\">\\n\\t\\t\\t\\t\\t\\t<div class=\"partner-item corporate_customers\">\\n\\t\\t\\t\\t\\t\\t\\t<a href=\"#\">\\n\\t\\t\\t\\t\\t\\t\\t\\t<img class=\"\" alt=\"drdo\" src=\"/static/cybervidyapeeth/img/corporates/drdo.webp\" />\\n\\t\\t\\t\\t\\t\\t\\t</a>\\n\\t\\t\\t\\t\\t\\t</div>\\n\\t\\t\\n\\t\\t\\t\\t\\t\\t<div class=\"partner-item corporate_customers\">\\n\\t\\t\\t\\t\\t\\t\\t<a href=\"#\">\\n\\t\\t\\t\\t\\t\\t\\t\\t<img class=\"\" alt=\"rbi\" src=\"/static/cybervidyapeeth/img/corporates/rbi.webp\" />\\n\\t\\t\\t\\t\\t\\t\\t</a>\\n\\t\\t\\t\\t\\t\\t</div>\\n\\t\\t\\n\\t\\t\\t\\t\\t\\t<div class=\"partner-item corporate_customers\">\\n\\t\\t\\t\\t\\t\\t\\t<a href=\"#\">\\n\\t\\t\\t\\t\\t\\t\\t\\t<img class=\"\" alt=\"meity\" src=\"/static/cybervidyapeeth/img/corporates/meity.webp\" />\\n\\t\\t\\t\\t\\t\\t\\t</a>\\n\\t\\t\\t\\t\\t\\t</div>\\n\\t\\t\\t\\t\\t\\t\\n\\t\\t\\t\\t\\t\\t<div class=\"partner-item corporate_customers\">\\n\\t\\t\\t\\t\\t\\t\\t<a href=\"#\">\\n\\t\\t\\t\\t\\t\\t\\t\\t<img class=\"\" alt=\"npcil\" src=\"/static/cybervidyapeeth/img/corporates/npcil.webp\" />\\n\\t\\t\\t\\t\\t\\t\\t</a>\\n\\t\\t\\t\\t\\t\\t</div>\\n\\n\\t\\t\\t\\t\\t\\t<div class=\"partner-item corporate_customers\">\\n\\t\\t\\t\\t\\t\\t\\t<a href=\"#\">\\n\\t\\t\\t\\t\\t\\t\\t\\t<img class=\"\" alt=\"ongc\" src=\"/static/cybervidyapeeth/img/corporates/ongc.webp\" />\\n\\t\\t\\t\\t\\t\\t\\t</a>\\n\\t\\t\\t\\t\\t\\t</div>\\n\\n\\t\\t\\t\\t\\t\\t<div class=\"partner-item corporate_customers\">\\n\\t\\t\\t\\t\\t\\t\\t<a href=\"#\">\\n\\t\\t\\t\\t\\t\\t\\t\\t<img class=\"\" alt=\"powergrid\" src=\"/static/cybervidyapeeth/img/corporates/powergrid.webp\" />\\n\\t\\t\\t\\t\\t\\t\\t</a>\\n\\t\\t\\t\\t\\t\\t</div>\\n\\n\\t\\t\\t\\t\\t\\t<div class=\"partner-item corporate_customers\">\\n\\t\\t\\t\\t\\t\\t\\t<a href=\"#\">\\n\\t\\t\\t\\t\\t\\t\\t\\t<img class=\"\" alt=\"irctc\" src=\"/static/cybervidyapeeth/img/corporates/irctc.webp\" />\\n\\t\\t\\t\\t\\t\\t\\t</a>\\n\\t\\t\\t\\t\\t\\t</div>\\n\\t\\t\\t\\t\\t\\t<div class=\"partner-item corporate_customers\">\\n\\t\\t\\t\\t\\t\\t\\t<a href=\"#\">\\n\\t\\t\\t\\t\\t\\t\\t\\t<img class=\"\" alt=\"gail\" src=\"/static/cybervidyapeeth/img/corporates/gail.webp\" />\\n\\t\\t\\t\\t\\t\\t\\t</a>\\n\\t\\t\\t\\t\\t\\t</div>\\n\\t\\t\\t\\t\\t\\t<div class=\"partner-item corporate_customers\">\\n\\t\\t\\t\\t\\t\\t\\t<a href=\"#\">\\n\\t\\t\\t\\t\\t\\t\\t\\t<img class=\"\" alt=\"sbi\" src=\"/static/cybervidyapeeth/img/corporates/sbi.webp\" />\\n\\t\\t\\t\\t\\t\\t\\t</a>\\n\\t\\t\\t\\t\\t\\t</div>\\n\\t\\t\\t\\t\\t\\t<div class=\"partner-item corporate_customers\">\\n\\t\\t\\t\\t\\t\\t\\t<a href=\"#\">\\n\\t\\t\\t\\t\\t\\t\\t\\t<img class=\"\" alt=\"ntpc\" src=\"/static/cybervidyapeeth/img/corporates/ntpc.webp\" />\\n\\t\\t\\t\\t\\t\\t\\t</a>\\n\\t\\t\\t\\t\\t\\t</div>\\n\\t\\t\\t\\t\\t\\t<div class=\"partner-item corporate_customers\">\\n\\t\\t\\t\\t\\t\\t\\t<a href=\"#\">\\n\\t\\t\\t\\t\\t\\t\\t\\t<img class=\"\" alt=\"sail\" src=\"/static/cybervidyapeeth/img/corporates/sail.webp\" />\\n\\t\\t\\t\\t\\t\\t\\t</a>\\n\\t\\t\\t\\t\\t\\t</div>\\n\\t\\t\\t\\t\\t\\t<div class=\"partner-item corporate_customers\">\\n\\t\\t\\t\\t\\t\\t\\t<a href=\"#\">\\n\\t\\t\\t\\t\\t\\t\\t\\t<img class=\"\" alt=\"iocl\" src=\"/static/cybervidyapeeth/img/corporates/iocl.webp\" />\\n\\t\\t\\t\\t\\t\\t\\t</a>\\n\\t\\t\\t\\t\\t\\t</div>\\n\\t\\t\\t\\t\\t\\t<div class=\"partner-item corporate_customers\">\\n\\t\\t\\t\\t\\t\\t\\t<a href=\"#\">\\n\\t\\t\\t\\t\\t\\t\\t\\t<img class=\"\" alt=\"tata-power\" src=\"/static/cybervidyapeeth/img/corporates/tata-power.webp\" />\\n\\t\\t\\t\\t\\t\\t\\t</a>\\n\\t\\t\\t\\t\\t\\t</div>\\n\\t\\t\\t\\t\\t\\t<div class=\"partner-item corporate_customers\">\\n\\t\\t\\t\\t\\t\\t\\t<a href=\"#\">\\n\\t\\t\\t\\t\\t\\t\\t\\t<img class=\"\" alt=\"adani-power\" src=\"/static/cybervidyapeeth/img/corporates/adani-power.webp\" />\\n\\t\\t\\t\\t\\t\\t\\t</a>\\n\\t\\t\\t\\t\\t\\t</div>\\n\\t\\t\\t\\t\\t\\t<div class=\"partner-item corporate_customers\">\\n\\t\\t\\t\\t\\t\\t\\t<a href=\"#\">\\n\\t\\t\\t\\t\\t\\t\\t\\t<img class=\"\" alt=\"cesc\" src=\"/static/cybervidyapeeth/img/corporates/cesc.webp\" />\\n\\t\\t\\t\\t\\t\\t\\t</a>\\n\\t\\t\\t\\t\\t\\t</div>\\n\\t\\t\\t\\t\\t\\t<div class=\"partner-item corporate_customers\">\\n\\t\\t\\t\\t\\t\\t\\t<a href=\"#\">\\n\\t\\t\\t\\t\\t\\t\\t\\t<img class=\"\" alt=\"rbl-bank\" src=\"/static/cybervidyapeeth/img/corporates/rbl-bank.webp\" />\\n\\t\\t\\t\\t\\t\\t\\t</a>\\n\\t\\t\\t\\t\\t\\t</div>\\n\\t\\t\\t\\t\\t</div>\\n\\t\\t\\t\\t</div>\\n\\t\\t\\t</div>\\n\\t\\t</div>\\n\\t</div>\\n</section>\\n<div class=\"overview-area\">\\n\\t<div class=\"container-fluid\">\\n\\t\\t<div class=\"row\">\\n\\t\\t\\t<div class=\"col-lg-6 col-md-12\">\\n\\t\\t\\t\\t<div class=\"single-solutions solutions-cyber-defense-edu overview-content-box\">\\n\\t\\t\\t\\t\\t<!-- <img src=\"/static/cybervidyapeeth/img/courses-1.jpg\" alt=\"image\"> -->\\n\\n\\t\\t\\t\\t\\t<div class=\"content\">\\n\\t\\t\\t\\t\\t\\t<h3 style=\"background: linear-gradient(136.1deg, #D80650 1.84%, #FE5D68 100%);\">Cyber Defense Education</h3>\\n\\t\\t\\t\\t\\t\\t<a href=\"/courses/\" class=\"default-btn\">See Details</a>\\n\\t\\t\\t\\t\\t</div>\\n\\t\\t\\t\\t</div>\\n\\t\\t\\t</div>\\n\\t\\t\\t<div class=\"col-lg-6 col-md-12\">\\n\\t\\t\\t\\t<div class=\"single-solutions solutions-cyber-defense-trn overview-content-box\">\\n\\t\\t\\t\\t\\t<!-- <img src=\"/static/cybervidyapeeth/img/training-1.jpg\" alt=\"image\"> -->\\n\\n\\t\\t\\t\\t\\t<div class=\"content\">\\n\\t\\t\\t\\t\\t\\t<h3 style=\"background: linear-gradient(136.1deg, #D80650 1.84%, #FE5D68 100%);\">Cyber Defense Trainings</h3>\\n\\t\\t\\t\\t\\t\\t<a href=\"/corporate-trainings/\" class=\"default-btn\">See Details</a>\\n\\t\\t\\t\\t\\t</div>\\n\\t\\t\\t\\t</div>\\n\\t\\t\\t</div>\\n\\t\\t</div>\\n\\t</div>\\n</div>\\n\\n<!-- <section class=\"h-section pt-70\" style=\"min-height: 200px;\">\\n\\t<div class=\"container\">\\n\\t\\t<h2 class=\"section_header text-center text-white\">Want to become a CyberRakshak? </h2>\\n\\n\\t\\t<div class=\"text-center mt-5 mb-5\">\\n\\t\\t\\t<a href=\"training/cyber-rakshak-beginner/\" class=\"btn btn-lg btn-warning enquiry_button_home\"> Apply Now! </a>\\n\\t\\t</div>\\n\\t</div>\\n</section> -->\\n\\n\\n\\n\\n\\t<footer class=\"footer-style-two-with-color pt-100\">\\n\\t\\t<div class=\"container\">\\n\\t\\t\\t<div class=\"row justify-content-center\">\\n\\t\\t\\t\\t<div class=\"col-lg-4 col-md-6 col-sm-6\">\\n\\t\\t\\t\\t\\t<div class=\"single-footer-widget-card\">\\n\\t\\t\\t\\t\\t\\t<a href=\"/\" class=\"logo d-inline-block\">\\n\\t\\t\\t\\t\\t\\t\\t<img src=\"/static/cybervidyapeeth/img/logo.webp\" alt=\"logo\">\\n\\t\\t\\t\\t\\t\\t</a>\\n\\t\\t\\t\\t\\t\\t<p>World\\'s First Dedicated online Cyber-Defence Education Entity</p>\\n\\t\\t\\t\\t\\t</div>\\n\\t\\t\\t\\t</div>\\n\\n\\t\\t\\t\\t<div class=\"col-lg-4 col-md-6 col-sm-6\">\\n\\t\\t\\t\\t\\t<div class=\"single-footer-widget-card ps-5\">\\n\\t\\t\\t\\t\\t\\t<h3>About Us</h3>\\n\\t\\t\\t\\t\\t\\t<ul class=\"custom-links\">\\n\\t\\t\\t\\t\\t\\t\\t<li><a href=\"/about-cyberversity/\">About Us</a></li>\\n\\t\\t\\t\\t\\t\\t\\t<li><a href=\"/courses/\">Courses</a></li>\\n\\t\\t\\t\\t\\t\\t\\t<li><a href=\"/corporate-trainings/\">Training</a></li>\\n\\t\\t\\t\\t\\t\\t\\t<li><a href=\"/internships/\">Internships</a></li>\\n\\t\\t\\t\\t\\t\\t\\t<li><a href=\"/contactus/\">Contacts</a></li>\\n\\t\\t\\t\\t\\t\\t\\t<li><a href=\"/privacy-policy\">Privacy Policy</a></li>\\n\\t\\t\\t\\t\\t\\t\\t<li><a href=\"/terms-conditions\">Terms & Conditions</a></li>\\n\\t\\t\\t\\t\\t\\t</ul>\\n\\t\\t\\t\\t\\t</div>\\n\\t\\t\\t\\t</div>\\n\\n\\t\\t\\t\\t<div class=\"col-lg-4 col-md-4 col-sm-4\">\\n\\t\\t\\t\\t\\t<div class=\"single-footer-widget-card\">\\n\\t\\t\\t\\t\\t\\t<h3>Contact Us</h3>\\n\\t\\t\\t\\t\\t\\t<ul class=\"footer-contact-info\">\\n\\t\\t\\t\\t\\t\\t\\t<li>\\n\\t\\t\\t\\t\\t\\t\\t\\t<span>Address:</span>\\n\\t\\t\\t\\t\\t\\t\\t\\tCybervidyapeeth, VILLA - 682, SECTOR - 21 C, FARIDABAD - 121001, HARYANA, INDIA\\n\\t\\t\\t\\t\\t\\t\\t</li>\\n\\t\\t\\t\\t\\t\\t\\t<li>\\n\\t\\t\\t\\t\\t\\t\\t\\t<span>Email:</span>\\n\\t\\t\\t\\t\\t\\t\\t\\t<a href=\"mailto:mentor@cybervidyapeeth.in\">mentor@cybervidyapeeth.in</a>\\n\\t\\t\\t\\t\\t\\t\\t</li>\\n\\t\\t\\t\\t\\t\\t\\t<li>\\n\\t\\t\\t\\t\\t\\t\\t\\t<span>Phone:</span>\\n\\t\\t\\t\\t\\t\\t\\t\\t<a href=\"tel:+919711147900\">+91 9711147900</a>\\n\\t\\t\\t\\t\\t\\t\\t</li>\\n\\t\\t\\t\\t\\t\\t\\t<li>\\n\\t\\t\\t\\t\\t\\t\\t\\t<span>Timings:</span>\\n\\t\\t\\t\\t\\t\\t\\t\\t<span>Mon - Sat 10 AM - 6.30 PM</span>\\n\\t\\t\\t\\t\\t\\t\\t</li>\\n\\t\\t\\t\\t\\t\\t</ul>\\n\\t\\t\\t\\t\\t</div>\\n\\t\\t\\t\\t</div>\\n\\t\\t\\t</div>\\n\\t\\t</div>\\n\\t\\t<div class=\"copyright-style-two-with-color\">\\n\\t\\t\\t<p>Copyright @ 2022 <a href=\"https://cybervidyapeeth.in/\" target=\"_self\">Cybervidyapeeth</a> &nbsp;Designed and Developed by <a href=\"https://stackxtech.com/\" target=\"_blank\">StackX Technologies</a></p>\\n\\t\\t\\t<!-- <p><a href=\"/privacy-policy\">Privacy Policy</a> &nbsp; <a href=\"/terms-conditions\">Terms & Conditions</a></p> -->\\n\\t\\t</div>\\n\\t\\t<div class=\"footer-shape-1\">\\n\\t\\t\\t<img src=\"/static/cybervidyapeeth/img/more-home/footer/footer-shape-1.webp\" alt=\"image\">\\n\\t\\t</div>\\n\\t\\t<div class=\"footer-shape-2\">\\n\\t\\t\\t<img src=\"/static/cybervidyapeeth/img/more-home/footer/footer-shape-2.webp\" alt=\"image\">\\n\\t\\t</div>\\n\\t\\t<div class=\"lines-line\">\\n\\t\\t\\t<div class=\"line\"></div>\\n\\t\\t\\t<div class=\"line\"></div>\\n\\t\\t\\t<div class=\"line\"></div>\\n\\t\\t</div>\\n\\t</footer>\\n\\t<div class=\"go-top\">\\n\\t\\t<i class=\\'bx bx-chevrons-up\\'></i>\\n\\t\\t<i class=\\'bx bx-chevrons-up\\'></i>\\n\\t</div>\\n\\t<div class=\"alert text-center cookiealert\" role=\"alert\">\\n\\t\\t<b>We use cookies to ensure you get the best experience on our website. See <a href=\"/privacy-policy\" target=\"_self\">privacy policy</a>\\n\\t\\t<button type=\"button\" class=\"btn btn-primary btn-sm acceptcookies\">\\n\\t\\t\\tI agree\\n\\t\\t</button>\\n\\t</div>\\n\\t\\n    <script src=\"/static/cybervidyapeeth/js/jquery.min.js\" ></script>\\n    <script src=\"/static/cybervidyapeeth/js/bootstrap.bundle.min.js\" ></script>\\n\\t<script src=\"/static/cybervidyapeeth/js/meanmenu.min.js\" ></script>\\n\\t<script src=\"/static/cybervidyapeeth/js/odometer.min.js\" ></script>\\n\\t<script src=\"/static/cybervidyapeeth/js/wow.min.js\" ></script>\\n\\t<script src=\"/static/cybervidyapeeth/js/nice-select.min.js\" ></script>\\n\\t<script src=\"/static/cybervidyapeeth/js/appear.min.js\" ></script>\\n\\t<script src=\"/static/cybervidyapeeth/js/owl.carousel.min.js\" ></script>\\n\\t<script src=\"/static/cybervidyapeeth/js/carousel-thumbs.min.js\" ></script>\\n\\t<script type=\"text/javascript\" src=\"/static/cybervidyapeeth/js/custom.js?v=2\"></script>\\n\\t<script src=\"https://cdn.jsdelivr.net/gh/Wruczek/Bootstrap-Cookie-Alert@gh-pages/cookiealert.js\"></script>\\n\\t\\n\\t<link href=\"/static/cybervidyapeeth/css/nice-select.min.css\" rel=\"stylesheet\" type=\"text/css\"/>\\n\\t<link href=\"/static/cybervidyapeeth/css/boxicons.min.css\" rel=\"stylesheet\" />\\n\\t\\n\\t<script>\\n\\t\\t$(document).ready(function() {\\n\\t\\t\\tsetTimeout(function() {\\n\\t\\t\\t\\t$(\\'.messages\\').fadeOut(\\'slow\\');\\n\\t\\t\\t}, 10000);\\n\\t\\t});\\n\\t</script>\\n\\t\\t\\n\\n  \\n  </body>\\n</html>'\n"
     ]
    }
   ],
   "source": [
    "from urllib.request import urlopen\n",
    "html = urlopen('https://www.cybervidyapeeth.in')\n",
    "print(html.read())"
   ]
  },
  {
   "cell_type": "markdown",
   "id": "04e32f53",
   "metadata": {},
   "source": [
    "# Here The Data is Looking So Messy So we Have To Find A way "
   ]
  },
  {
   "cell_type": "markdown",
   "id": "8a474e3c",
   "metadata": {},
   "source": [
    "# So we are going to use BeautifulSoup\n"
   ]
  },
  {
   "cell_type": "code",
   "execution_count": 2,
   "id": "b19246d4",
   "metadata": {},
   "outputs": [
    {
     "name": "stdout",
     "output_type": "stream",
     "text": [
      "<h1 class=\"wow animate__animated animate__fadeInLeft animate-charcter\" data-wow-delay=\"1s\">CYBERVIDYAPEETH</h1>\n"
     ]
    }
   ],
   "source": [
    "from urllib.request import urlopen\n",
    "from bs4 import BeautifulSoup\n",
    "html = urlopen('https://www.cybervidyapeeth.in')\n",
    "bs = BeautifulSoup(html.read(), 'html5lib')\n",
    "print(bs.h1) "
   ]
  },
  {
   "cell_type": "code",
   "execution_count": 3,
   "id": "623df1ca",
   "metadata": {},
   "outputs": [
    {
     "name": "stdout",
     "output_type": "stream",
     "text": [
      "CYBERVIDYAPEETH\n"
     ]
    }
   ],
   "source": [
    "from urllib.request import urlopen\n",
    "from bs4 import BeautifulSoup\n",
    "html = urlopen('https://www.cybervidyapeeth.in')\n",
    "bs = BeautifulSoup(html.read(), 'html5lib')\n",
    "print(bs.h1.get_text())"
   ]
  },
  {
   "cell_type": "code",
   "execution_count": 4,
   "id": "28104c62",
   "metadata": {},
   "outputs": [
    {
     "name": "stdout",
     "output_type": "stream",
     "text": [
      "<link href=\"/static/cybervidyapeeth/img/favicon/apple-icon-57x57.png\" rel=\"apple-touch-icon\" sizes=\"57x57\"/>\n"
     ]
    }
   ],
   "source": [
    "from urllib.request import urlopen\n",
    "from bs4 import BeautifulSoup\n",
    "html = urlopen('https://www.cybervidyapeeth.in')\n",
    "bs = BeautifulSoup(html.read(), 'html5lib')\n",
    "print(bs.link) "
   ]
  },
  {
   "cell_type": "code",
   "execution_count": 5,
   "id": "27a843f8",
   "metadata": {},
   "outputs": [
    {
     "name": "stdout",
     "output_type": "stream",
     "text": [
      "b'<html>\\n<head>\\n<title>A Useful Page</title>\\n</head>\\n<body>\\n<h1>An Interesting Title</h1>\\n<div>\\nLorem ipsum dolor sit amet, consectetur adipisicing elit, sed do eiusmod tempor incididunt ut labore et dolore magna aliqua. Ut enim ad minim veniam, quis nostrud exercitation ullamco laboris nisi ut aliquip ex ea commodo consequat. Duis aute irure dolor in reprehenderit in voluptate velit esse cillum dolore eu fugiat nulla pariatur. Excepteur sint occaecat cupidatat non proident, sunt in culpa qui officia deserunt mollit anim id est laborum.\\n</div>\\n</body>\\n</html>\\n'\n"
     ]
    }
   ],
   "source": [
    "from urllib.request import urlopen\n",
    "html = urlopen('http://pythonscraping.com/pages/page1.html')\n",
    "print(html.read())"
   ]
  },
  {
   "cell_type": "code",
   "execution_count": 6,
   "id": "be001de4",
   "metadata": {},
   "outputs": [
    {
     "name": "stdout",
     "output_type": "stream",
     "text": [
      "<h1>An Interesting Title</h1>\n"
     ]
    }
   ],
   "source": [
    "from urllib.request import urlopen\n",
    "from bs4 import BeautifulSoup\n",
    "html = urlopen('http://www.pythonscraping.com/pages/page1.html')\n",
    "bs = BeautifulSoup(html.read(), 'html.parser')\n",
    "print(bs.h1)"
   ]
  },
  {
   "cell_type": "code",
   "execution_count": 7,
   "id": "15ead16b",
   "metadata": {},
   "outputs": [
    {
     "name": "stdout",
     "output_type": "stream",
     "text": [
      "An Interesting Title\n"
     ]
    }
   ],
   "source": [
    "from urllib.request import urlopen\n",
    "from bs4 import BeautifulSoup\n",
    "html = urlopen('http://www.pythonscraping.com/pages/page1.html')\n",
    "bs = BeautifulSoup(html.read(), 'html.parser')\n",
    "print(bs.h1.get_text())"
   ]
  },
  {
   "cell_type": "code",
   "execution_count": 8,
   "id": "d440f830",
   "metadata": {},
   "outputs": [
    {
     "name": "stdout",
     "output_type": "stream",
     "text": [
      "Anna\n",
      "Pavlovna Scherer\n"
     ]
    }
   ],
   "source": [
    "from urllib.request import urlopen\n",
    "from bs4 import BeautifulSoup\n",
    "html = urlopen('http://www.pythonscraping.com/pages/warandpeace.html')\n",
    "bs = BeautifulSoup(html.read(), 'html.parser')\n",
    "name = bs.find('span', {'class':'green'})\n",
    "print(name.get_text())"
   ]
  },
  {
   "cell_type": "code",
   "execution_count": 9,
   "id": "22c60eef",
   "metadata": {
    "scrolled": true
   },
   "outputs": [
    {
     "name": "stdout",
     "output_type": "stream",
     "text": [
      "Anna\n",
      "Pavlovna Scherer\n",
      "Empress Marya\n",
      "Fedorovna\n",
      "Prince Vasili Kuragin\n",
      "Anna Pavlovna\n",
      "St. Petersburg\n",
      "the prince\n",
      "Anna Pavlovna\n",
      "Anna Pavlovna\n",
      "the prince\n",
      "the prince\n",
      "the prince\n",
      "Prince Vasili\n",
      "Anna Pavlovna\n",
      "Anna Pavlovna\n",
      "the prince\n",
      "Wintzingerode\n",
      "King of Prussia\n",
      "le Vicomte de Mortemart\n",
      "Montmorencys\n",
      "Rohans\n",
      "Abbe Morio\n",
      "the Emperor\n",
      "the prince\n",
      "Prince Vasili\n",
      "Dowager Empress Marya Fedorovna\n",
      "the baron\n",
      "Anna Pavlovna\n",
      "the Empress\n",
      "the Empress\n",
      "Anna Pavlovna's\n",
      "Her Majesty\n",
      "Baron\n",
      "Funke\n",
      "The prince\n",
      "Anna\n",
      "Pavlovna\n",
      "the Empress\n",
      "The prince\n",
      "Anatole\n",
      "the prince\n",
      "The prince\n",
      "Anna\n",
      "Pavlovna\n",
      "Anna Pavlovna\n"
     ]
    }
   ],
   "source": [
    "from urllib.request import urlopen\n",
    "from bs4 import BeautifulSoup\n",
    "html = urlopen('http://www.pythonscraping.com/pages/warandpeace.html')\n",
    "bs = BeautifulSoup(html.read(), 'html.parser')\n",
    "nameList = bs.find_all('span', {'class':'green'})\n",
    "for name in nameList:\n",
    "    print(name.get_text())"
   ]
  },
  {
   "cell_type": "code",
   "execution_count": 10,
   "id": "488c6525",
   "metadata": {},
   "outputs": [
    {
     "name": "stdout",
     "output_type": "stream",
     "text": [
      "['mentor@cybervidyapeeth.in']\n"
     ]
    }
   ],
   "source": [
    "from urllib.request import urlopen\n",
    "from bs4 import BeautifulSoup\n",
    "html = urlopen('https://www.cybervidyapeeth.in')\n",
    "bs = BeautifulSoup(html.read(), 'html.parser')\n",
    "nameList = bs.find_all(text='mentor@cybervidyapeeth.in')\n",
    "print(nameList)"
   ]
  },
  {
   "cell_type": "code",
   "execution_count": 11,
   "id": "5a4b3af8",
   "metadata": {},
   "outputs": [
    {
     "name": "stdout",
     "output_type": "stream",
     "text": [
      "1\n"
     ]
    }
   ],
   "source": [
    "from urllib.request import urlopen\n",
    "from bs4 import BeautifulSoup\n",
    "html = urlopen('https://www.cybervidyapeeth.in')\n",
    "bs = BeautifulSoup(html.read(), 'html.parser')\n",
    "nameList = bs.find_all(text='mentor@cybervidyapeeth.in')\n",
    "print(len(nameList))"
   ]
  },
  {
   "cell_type": "code",
   "execution_count": 12,
   "id": "ab1f9b64",
   "metadata": {},
   "outputs": [
    {
     "name": "stdout",
     "output_type": "stream",
     "text": [
      " Join our courses PG Diploma In Cyber Defense PLEASE JOIN THE TELEGRAM GROUP FOR INSTANT UPDATES : Telegram   \n"
     ]
    }
   ],
   "source": [
    "from urllib.request import urlopen\n",
    "from bs4 import BeautifulSoup\n",
    "html = urlopen('https://www.cybervidyapeeth.in')\n",
    "bs = BeautifulSoup(html.read(), 'html.parser')\n",
    "nameList = bs.findAll('span', {'class':'text-danger' })\n",
    "for name in nameList:\n",
    "    print(name.get_text())"
   ]
  },
  {
   "cell_type": "code",
   "execution_count": 13,
   "id": "46de3f87",
   "metadata": {},
   "outputs": [
    {
     "name": "stdout",
     "output_type": "stream",
     "text": [
      "+\n",
      "+\n",
      "+\n",
      "+\n"
     ]
    }
   ],
   "source": [
    "from urllib.request import urlopen\n",
    "from bs4 import BeautifulSoup\n",
    "html = urlopen('https://www.cybervidyapeeth.in')\n",
    "bs = BeautifulSoup(html.read(), 'html.parser')\n",
    "nameList = bs.findAll('span', {'class':'target' })\n",
    "for name in nameList:\n",
    "    print(name.get_text())"
   ]
  },
  {
   "cell_type": "code",
   "execution_count": 14,
   "id": "8354a9a5",
   "metadata": {},
   "outputs": [
    {
     "name": "stdout",
     "output_type": "stream",
     "text": [
      "<http.client.HTTPResponse object at 0x7fd1b8fb7970>\n"
     ]
    }
   ],
   "source": [
    "from urllib.request import urlopen\n",
    "from urllib.error import HTTPError\n",
    "try:\n",
    "    html = urlopen('http://www.pythonscraping.com/pages/page3.html')\n",
    "    print(html)\n",
    "except HTTPError as e:\n",
    "    print(e)\n",
    "# return null, break, or do some other \"Plan B\"\n",
    "else:\n",
    "    exit()\n",
    "# program continues. Note: If you return or break in the\n",
    "# exception catch, you do not need to use the \"else\" statement"
   ]
  },
  {
   "cell_type": "markdown",
   "id": "2d867291",
   "metadata": {},
   "source": [
    "# Here We Are Dealing With Exceptions"
   ]
  },
  {
   "cell_type": "code",
   "execution_count": 15,
   "id": "2edeee42",
   "metadata": {},
   "outputs": [
    {
     "name": "stdout",
     "output_type": "stream",
     "text": [
      "<h1 class=\"wow animate__animated animate__fadeInLeft animate-charcter\" data-wow-delay=\"1s\">CYBERVIDYAPEETH</h1>\n",
      "It Worked!\n"
     ]
    }
   ],
   "source": [
    "from urllib.request import urlopen\n",
    "from urllib.error import HTTPError\n",
    "from urllib.error import URLError\n",
    "from urllib.request import urlopen\n",
    "from bs4 import BeautifulSoup\n",
    "try:\n",
    "    \n",
    "    html = urlopen('http://cybervidyapeeth.in')\n",
    "    bs = BeautifulSoup(html.read(), 'html.parser')\n",
    "    print(bs.h1)\n",
    "    \n",
    "except HTTPError as e:\n",
    "    print(e)\n",
    "except URLError as e:\n",
    "    print('The server could not be found!')\n",
    "else:\n",
    "    print('It Worked!')"
   ]
  },
  {
   "cell_type": "code",
   "execution_count": 16,
   "id": "39cf65e8",
   "metadata": {},
   "outputs": [
    {
     "name": "stdout",
     "output_type": "stream",
     "text": [
      "<h1>An Interesting Title</h1>\n"
     ]
    }
   ],
   "source": [
    "from urllib.request import urlopen\n",
    "from urllib.error import HTTPError\n",
    "from bs4 import BeautifulSoup\n",
    "def getTitle(url):\n",
    "    try:\n",
    "        html = urlopen(url)\n",
    "    except HTTPError as e:\n",
    "        return None\n",
    "    try:\n",
    "        bs = BeautifulSoup(html.read(), 'html.parser')\n",
    "        title = bs.body.h1\n",
    "    except AttributeError as e:\n",
    "        return None\n",
    "    return title\n",
    "title = getTitle('http://www.pythonscraping.com/pages/page1.html')\n",
    "if title == None:\n",
    "    print('Title could not be found')\n",
    "else:\n",
    "    print(title)"
   ]
  },
  {
   "cell_type": "markdown",
   "id": "35ab4239",
   "metadata": {},
   "source": [
    "# Extracting Urls present in the website"
   ]
  },
  {
   "cell_type": "code",
   "execution_count": 17,
   "id": "2bf8b1b5",
   "metadata": {},
   "outputs": [
    {
     "name": "stdout",
     "output_type": "stream",
     "text": [
      "mailto:mentor@cybervidyapeeth.in\n",
      "tel:+919711147900\n",
      "/privacy-policy\n",
      "/terms-conditions\n",
      "/refund-policy\n",
      "/courses/pg-diploma-in-cyber-defense/\n",
      "https://tttttt.me/+f9hPinTRZdUxNDFl\n",
      "/\n",
      "/\n",
      "/\n",
      "#\n",
      "/about-cyberversity/\n",
      "/advisory-board/\n",
      "/leadership/\n",
      "/courses/\n",
      "/corporate-trainings/\n",
      "/internships/\n",
      "/events/\n",
      "/contactus/\n",
      "https://rzp.io/l/4XojLUbSw\n",
      "/courses/apply-for-pg-diploma-vbu\n",
      "/courses/apply-for-pg-diploma-vbu-fd\n",
      "javascript:void(0)\n",
      "javascript:void(0)\n",
      "javascript:void(0)\n",
      "javascript:void(0)\n",
      "javascript:void(0)\n",
      "javascript:void(0)\n",
      "javascript:void(0)\n",
      "javascript:void(0)\n",
      "javascript:void(0)\n",
      "javascript:void(0)\n",
      "/courses/apply-for-pg-diploma-vbu\n",
      "/courses/apply-for-pg-diploma-vbu-fd\n",
      "/\n",
      "/about-cyberversity/\n",
      "/courses/\n",
      "/corporate-trainings/\n",
      "/internships/\n",
      "/contactus/\n",
      "/privacy-policy\n",
      "/terms-conditions\n",
      "mailto:mentor@cybervidyapeeth.in\n",
      "tel:+919711147900\n",
      "https://cybervidyapeeth.in/\n",
      "https://stackxtech.com/\n",
      "/privacy-policy\n"
     ]
    }
   ],
   "source": [
    "from urllib.request import urlopen\n",
    "from bs4 import BeautifulSoup\n",
    "html = urlopen('https://cybervidyapeeth.in/courses/pg-diploma-in-cyber-defense/')\n",
    "bs = BeautifulSoup(html, 'html.parser')\n",
    " \n",
    "urls = []\n",
    "linksof = []\n",
    "for link in bs.find_all('a'):\n",
    "    print(link.attrs['href'])\n",
    "    \n",
    "    \n",
    "# from urllib.request import urlopen\n",
    "# from bs4 import BeautifulSoup\n",
    "# html = urlopen('https://cybervidyapeeth.in/courses/pg-diploma-in-cyber-defense/')\n",
    "# bs = BeautifulSoup(html, 'html.parser')\n",
    " \n",
    "# urls = []\n",
    "# linksof = []\n",
    "# for link in bs.find_all('a'):\n",
    "#     print(link.get('href') ) \n"
   ]
  },
  {
   "cell_type": "code",
   "execution_count": 18,
   "id": "51a88a4f",
   "metadata": {},
   "outputs": [
    {
     "name": "stdout",
     "output_type": "stream",
     "text": [
      "https://tttttt.me/+f9hPinTRZdUxNDFl\n",
      "https://rzp.io/l/4XojLUbSw\n",
      "https://cybervidyapeeth.in/\n",
      "https://stackxtech.com/\n"
     ]
    }
   ],
   "source": [
    "from urllib.request import urlopen\n",
    "from bs4 import BeautifulSoup\n",
    "html = urlopen('https://cybervidyapeeth.in/courses/pg-diploma-in-cyber-defense/')\n",
    "bs = BeautifulSoup(html, 'html.parser')\n",
    " \n",
    "urls = []\n",
    "linksof = []\n",
    "for link in bs.find_all('a'):\n",
    "    if 'href' in link.attrs:\n",
    "        #print(link.attrs['href'])\n",
    "        if 'http' in link.attrs['href']:\n",
    "            print(link.attrs['href'])      \n"
   ]
  },
  {
   "cell_type": "code",
   "execution_count": 19,
   "id": "b784d3d7",
   "metadata": {},
   "outputs": [
    {
     "name": "stdout",
     "output_type": "stream",
     "text": [
      "/static/cybervidyapeeth/img/favicon/apple-icon-57x57.png\n",
      "/static/cybervidyapeeth/img/favicon/apple-icon-60x60.png\n",
      "/static/cybervidyapeeth/img/favicon/apple-icon-72x72.png\n",
      "/static/cybervidyapeeth/img/favicon/apple-icon-76x76.png\n",
      "/static/cybervidyapeeth/img/favicon/apple-icon-114x114.png\n",
      "/static/cybervidyapeeth/img/favicon/apple-icon-120x120.png\n",
      "/static/cybervidyapeeth/img/favicon/apple-icon-144x144.png\n",
      "/static/cybervidyapeeth/img/favicon/apple-icon-152x152.png\n",
      "/static/cybervidyapeeth/img/favicon/apple-icon-180x180.png\n",
      "/static/cybervidyapeeth/img/favicon/android-icon-192x192.png\n",
      "/static/cybervidyapeeth/img/favicon/favicon-32x32.png\n",
      "/static/cybervidyapeeth/img/favicon/favicon-96x96.png\n",
      "/static/cybervidyapeeth/img/favicon/favicon-16x16.png\n",
      "/static/cybervidyapeeth/img/favicon/manifest.json\n",
      "/static/cybervidyapeeth/css/bootstrap.min.css\n",
      "/static/cybervidyapeeth/css/dark.css\n",
      "/static/cybervidyapeeth/css/responsive.css\n",
      "/static/cybervidyapeeth/css/meanmenu.min.css\n",
      "/static/cybervidyapeeth/css/flaticon.css\n",
      "/static/cybervidyapeeth/css/owl.theme.default.min.css\n",
      "/static/cybervidyapeeth/css/owl.carousel.min.css\n",
      "/static/cybervidyapeeth/css/animate.min.css\n",
      "/static/cybervidyapeeth/css/odometer.min.css\n",
      "/static/cybervidyapeeth/css/style.css?v=2\n",
      "https://fonts.googleapis.com/css?family=Raleway:100,100i,200,200i,300,300i,400,400i,500,500i,600,600i,700,700i,800,800i,900,900i\n",
      "https://cdn.jsdelivr.net/gh/Wruczek/Bootstrap-Cookie-Alert@gh-pages/cookiealert.css\n",
      "/static/cybervidyapeeth/css/nice-select.min.css\n",
      "/static/cybervidyapeeth/css/boxicons.min.css\n"
     ]
    }
   ],
   "source": [
    "from urllib.request import urlopen\n",
    "from bs4 import BeautifulSoup\n",
    "url = 'http://cybervidyapeeth.in'\n",
    "html = urlopen(url)\n",
    "bs = BeautifulSoup(html.read(), 'html.parser')\n",
    "nameList = bs.find_all('link')\n",
    "for name in nameList:\n",
    "    if 'href' in name.attrs:\n",
    "        print(name.attrs['href'])"
   ]
  },
  {
   "cell_type": "markdown",
   "id": "79acd39b",
   "metadata": {},
   "source": [
    "# Now we are going to make  a Web Scraper Which Crawls all the URLs Recursively"
   ]
  },
  {
   "cell_type": "code",
   "execution_count": 1,
   "id": "c3b777cd",
   "metadata": {
    "scrolled": false
   },
   "outputs": [
    {
     "name": "stdout",
     "output_type": "stream",
     "text": [
      "https://cybervidyapeeth.in/privacy-policy\n",
      "https://cybervidyapeeth.in/terms-conditions\n",
      "https://cybervidyapeeth.in/refund-policy\n",
      "https://cybervidyapeeth.in/courses/pg-diploma-in-cyber-defense/\n",
      "https://cybervidyapeeth.in/about-cyberversity/\n",
      "https://cybervidyapeeth.in/advisory-board/\n",
      "https://cybervidyapeeth.in/leadership/\n"
     ]
    },
    {
     "ename": "ConnectionError",
     "evalue": "HTTPSConnectionPool(host='cybervidyapeeth.in', port=443): Max retries exceeded with url: /privacy-policy/about-cyberversity/ (Caused by NewConnectionError('<urllib3.connection.HTTPSConnection object at 0x7f71abfbc280>: Failed to establish a new connection: [Errno 101] Network is unreachable'))",
     "output_type": "error",
     "traceback": [
      "\u001b[0;31m---------------------------------------------------------------------------\u001b[0m",
      "\u001b[0;31mOSError\u001b[0m                                   Traceback (most recent call last)",
      "File \u001b[0;32m/usr/lib/python3/dist-packages/urllib3/connection.py:174\u001b[0m, in \u001b[0;36mHTTPConnection._new_conn\u001b[0;34m(self)\u001b[0m\n\u001b[1;32m    173\u001b[0m \u001b[38;5;28;01mtry\u001b[39;00m:\n\u001b[0;32m--> 174\u001b[0m     conn \u001b[38;5;241m=\u001b[39m \u001b[43mconnection\u001b[49m\u001b[38;5;241;43m.\u001b[39;49m\u001b[43mcreate_connection\u001b[49m\u001b[43m(\u001b[49m\n\u001b[1;32m    175\u001b[0m \u001b[43m        \u001b[49m\u001b[43m(\u001b[49m\u001b[38;5;28;43mself\u001b[39;49m\u001b[38;5;241;43m.\u001b[39;49m\u001b[43m_dns_host\u001b[49m\u001b[43m,\u001b[49m\u001b[43m \u001b[49m\u001b[38;5;28;43mself\u001b[39;49m\u001b[38;5;241;43m.\u001b[39;49m\u001b[43mport\u001b[49m\u001b[43m)\u001b[49m\u001b[43m,\u001b[49m\u001b[43m \u001b[49m\u001b[38;5;28;43mself\u001b[39;49m\u001b[38;5;241;43m.\u001b[39;49m\u001b[43mtimeout\u001b[49m\u001b[43m,\u001b[49m\u001b[43m \u001b[49m\u001b[38;5;241;43m*\u001b[39;49m\u001b[38;5;241;43m*\u001b[39;49m\u001b[43mextra_kw\u001b[49m\n\u001b[1;32m    176\u001b[0m \u001b[43m    \u001b[49m\u001b[43m)\u001b[49m\n\u001b[1;32m    178\u001b[0m \u001b[38;5;28;01mexcept\u001b[39;00m SocketTimeout:\n",
      "File \u001b[0;32m/usr/lib/python3/dist-packages/urllib3/util/connection.py:96\u001b[0m, in \u001b[0;36mcreate_connection\u001b[0;34m(address, timeout, source_address, socket_options)\u001b[0m\n\u001b[1;32m     95\u001b[0m \u001b[38;5;28;01mif\u001b[39;00m err \u001b[38;5;129;01mis\u001b[39;00m \u001b[38;5;129;01mnot\u001b[39;00m \u001b[38;5;28;01mNone\u001b[39;00m:\n\u001b[0;32m---> 96\u001b[0m     \u001b[38;5;28;01mraise\u001b[39;00m err\n\u001b[1;32m     98\u001b[0m \u001b[38;5;28;01mraise\u001b[39;00m socket\u001b[38;5;241m.\u001b[39merror(\u001b[38;5;124m\"\u001b[39m\u001b[38;5;124mgetaddrinfo returns an empty list\u001b[39m\u001b[38;5;124m\"\u001b[39m)\n",
      "File \u001b[0;32m/usr/lib/python3/dist-packages/urllib3/util/connection.py:86\u001b[0m, in \u001b[0;36mcreate_connection\u001b[0;34m(address, timeout, source_address, socket_options)\u001b[0m\n\u001b[1;32m     85\u001b[0m     sock\u001b[38;5;241m.\u001b[39mbind(source_address)\n\u001b[0;32m---> 86\u001b[0m \u001b[43msock\u001b[49m\u001b[38;5;241;43m.\u001b[39;49m\u001b[43mconnect\u001b[49m\u001b[43m(\u001b[49m\u001b[43msa\u001b[49m\u001b[43m)\u001b[49m\n\u001b[1;32m     87\u001b[0m \u001b[38;5;28;01mreturn\u001b[39;00m sock\n",
      "\u001b[0;31mOSError\u001b[0m: [Errno 101] Network is unreachable",
      "\nDuring handling of the above exception, another exception occurred:\n",
      "\u001b[0;31mNewConnectionError\u001b[0m                        Traceback (most recent call last)",
      "File \u001b[0;32m/usr/lib/python3/dist-packages/urllib3/connectionpool.py:704\u001b[0m, in \u001b[0;36mHTTPConnectionPool.urlopen\u001b[0;34m(self, method, url, body, headers, retries, redirect, assert_same_host, timeout, pool_timeout, release_conn, chunked, body_pos, **response_kw)\u001b[0m\n\u001b[1;32m    703\u001b[0m \u001b[38;5;66;03m# Make the request on the httplib connection object.\u001b[39;00m\n\u001b[0;32m--> 704\u001b[0m httplib_response \u001b[38;5;241m=\u001b[39m \u001b[38;5;28;43mself\u001b[39;49m\u001b[38;5;241;43m.\u001b[39;49m\u001b[43m_make_request\u001b[49m\u001b[43m(\u001b[49m\n\u001b[1;32m    705\u001b[0m \u001b[43m    \u001b[49m\u001b[43mconn\u001b[49m\u001b[43m,\u001b[49m\n\u001b[1;32m    706\u001b[0m \u001b[43m    \u001b[49m\u001b[43mmethod\u001b[49m\u001b[43m,\u001b[49m\n\u001b[1;32m    707\u001b[0m \u001b[43m    \u001b[49m\u001b[43murl\u001b[49m\u001b[43m,\u001b[49m\n\u001b[1;32m    708\u001b[0m \u001b[43m    \u001b[49m\u001b[43mtimeout\u001b[49m\u001b[38;5;241;43m=\u001b[39;49m\u001b[43mtimeout_obj\u001b[49m\u001b[43m,\u001b[49m\n\u001b[1;32m    709\u001b[0m \u001b[43m    \u001b[49m\u001b[43mbody\u001b[49m\u001b[38;5;241;43m=\u001b[39;49m\u001b[43mbody\u001b[49m\u001b[43m,\u001b[49m\n\u001b[1;32m    710\u001b[0m \u001b[43m    \u001b[49m\u001b[43mheaders\u001b[49m\u001b[38;5;241;43m=\u001b[39;49m\u001b[43mheaders\u001b[49m\u001b[43m,\u001b[49m\n\u001b[1;32m    711\u001b[0m \u001b[43m    \u001b[49m\u001b[43mchunked\u001b[49m\u001b[38;5;241;43m=\u001b[39;49m\u001b[43mchunked\u001b[49m\u001b[43m,\u001b[49m\n\u001b[1;32m    712\u001b[0m \u001b[43m\u001b[49m\u001b[43m)\u001b[49m\n\u001b[1;32m    714\u001b[0m \u001b[38;5;66;03m# If we're going to release the connection in ``finally:``, then\u001b[39;00m\n\u001b[1;32m    715\u001b[0m \u001b[38;5;66;03m# the response doesn't need to know about the connection. Otherwise\u001b[39;00m\n\u001b[1;32m    716\u001b[0m \u001b[38;5;66;03m# it will also try to release it and we'll have a double-release\u001b[39;00m\n\u001b[1;32m    717\u001b[0m \u001b[38;5;66;03m# mess.\u001b[39;00m\n",
      "File \u001b[0;32m/usr/lib/python3/dist-packages/urllib3/connectionpool.py:387\u001b[0m, in \u001b[0;36mHTTPConnectionPool._make_request\u001b[0;34m(self, conn, method, url, timeout, chunked, **httplib_request_kw)\u001b[0m\n\u001b[1;32m    386\u001b[0m \u001b[38;5;28;01mtry\u001b[39;00m:\n\u001b[0;32m--> 387\u001b[0m     \u001b[38;5;28;43mself\u001b[39;49m\u001b[38;5;241;43m.\u001b[39;49m\u001b[43m_validate_conn\u001b[49m\u001b[43m(\u001b[49m\u001b[43mconn\u001b[49m\u001b[43m)\u001b[49m\n\u001b[1;32m    388\u001b[0m \u001b[38;5;28;01mexcept\u001b[39;00m (SocketTimeout, BaseSSLError) \u001b[38;5;28;01mas\u001b[39;00m e:\n\u001b[1;32m    389\u001b[0m     \u001b[38;5;66;03m# Py2 raises this as a BaseSSLError, Py3 raises it as socket timeout.\u001b[39;00m\n",
      "File \u001b[0;32m/usr/lib/python3/dist-packages/urllib3/connectionpool.py:1045\u001b[0m, in \u001b[0;36mHTTPSConnectionPool._validate_conn\u001b[0;34m(self, conn)\u001b[0m\n\u001b[1;32m   1044\u001b[0m \u001b[38;5;28;01mif\u001b[39;00m \u001b[38;5;129;01mnot\u001b[39;00m \u001b[38;5;28mgetattr\u001b[39m(conn, \u001b[38;5;124m\"\u001b[39m\u001b[38;5;124msock\u001b[39m\u001b[38;5;124m\"\u001b[39m, \u001b[38;5;28;01mNone\u001b[39;00m):  \u001b[38;5;66;03m# AppEngine might not have  `.sock`\u001b[39;00m\n\u001b[0;32m-> 1045\u001b[0m     \u001b[43mconn\u001b[49m\u001b[38;5;241;43m.\u001b[39;49m\u001b[43mconnect\u001b[49m\u001b[43m(\u001b[49m\u001b[43m)\u001b[49m\n\u001b[1;32m   1047\u001b[0m \u001b[38;5;28;01mif\u001b[39;00m \u001b[38;5;129;01mnot\u001b[39;00m conn\u001b[38;5;241m.\u001b[39mis_verified:\n",
      "File \u001b[0;32m/usr/lib/python3/dist-packages/urllib3/connection.py:358\u001b[0m, in \u001b[0;36mHTTPSConnection.connect\u001b[0;34m(self)\u001b[0m\n\u001b[1;32m    356\u001b[0m \u001b[38;5;28;01mdef\u001b[39;00m \u001b[38;5;21mconnect\u001b[39m(\u001b[38;5;28mself\u001b[39m):\n\u001b[1;32m    357\u001b[0m     \u001b[38;5;66;03m# Add certificate verification\u001b[39;00m\n\u001b[0;32m--> 358\u001b[0m     \u001b[38;5;28mself\u001b[39m\u001b[38;5;241m.\u001b[39msock \u001b[38;5;241m=\u001b[39m conn \u001b[38;5;241m=\u001b[39m \u001b[38;5;28;43mself\u001b[39;49m\u001b[38;5;241;43m.\u001b[39;49m\u001b[43m_new_conn\u001b[49m\u001b[43m(\u001b[49m\u001b[43m)\u001b[49m\n\u001b[1;32m    359\u001b[0m     hostname \u001b[38;5;241m=\u001b[39m \u001b[38;5;28mself\u001b[39m\u001b[38;5;241m.\u001b[39mhost\n",
      "File \u001b[0;32m/usr/lib/python3/dist-packages/urllib3/connection.py:186\u001b[0m, in \u001b[0;36mHTTPConnection._new_conn\u001b[0;34m(self)\u001b[0m\n\u001b[1;32m    185\u001b[0m \u001b[38;5;28;01mexcept\u001b[39;00m SocketError \u001b[38;5;28;01mas\u001b[39;00m e:\n\u001b[0;32m--> 186\u001b[0m     \u001b[38;5;28;01mraise\u001b[39;00m NewConnectionError(\n\u001b[1;32m    187\u001b[0m         \u001b[38;5;28mself\u001b[39m, \u001b[38;5;124m\"\u001b[39m\u001b[38;5;124mFailed to establish a new connection: \u001b[39m\u001b[38;5;132;01m%s\u001b[39;00m\u001b[38;5;124m\"\u001b[39m \u001b[38;5;241m%\u001b[39m e\n\u001b[1;32m    188\u001b[0m     )\n\u001b[1;32m    190\u001b[0m \u001b[38;5;28;01mreturn\u001b[39;00m conn\n",
      "\u001b[0;31mNewConnectionError\u001b[0m: <urllib3.connection.HTTPSConnection object at 0x7f71abfbc280>: Failed to establish a new connection: [Errno 101] Network is unreachable",
      "\nDuring handling of the above exception, another exception occurred:\n",
      "\u001b[0;31mMaxRetryError\u001b[0m                             Traceback (most recent call last)",
      "File \u001b[0;32m/usr/lib/python3/dist-packages/requests/adapters.py:440\u001b[0m, in \u001b[0;36mHTTPAdapter.send\u001b[0;34m(self, request, stream, timeout, verify, cert, proxies)\u001b[0m\n\u001b[1;32m    439\u001b[0m \u001b[38;5;28;01mif\u001b[39;00m \u001b[38;5;129;01mnot\u001b[39;00m chunked:\n\u001b[0;32m--> 440\u001b[0m     resp \u001b[38;5;241m=\u001b[39m \u001b[43mconn\u001b[49m\u001b[38;5;241;43m.\u001b[39;49m\u001b[43murlopen\u001b[49m\u001b[43m(\u001b[49m\n\u001b[1;32m    441\u001b[0m \u001b[43m        \u001b[49m\u001b[43mmethod\u001b[49m\u001b[38;5;241;43m=\u001b[39;49m\u001b[43mrequest\u001b[49m\u001b[38;5;241;43m.\u001b[39;49m\u001b[43mmethod\u001b[49m\u001b[43m,\u001b[49m\n\u001b[1;32m    442\u001b[0m \u001b[43m        \u001b[49m\u001b[43murl\u001b[49m\u001b[38;5;241;43m=\u001b[39;49m\u001b[43murl\u001b[49m\u001b[43m,\u001b[49m\n\u001b[1;32m    443\u001b[0m \u001b[43m        \u001b[49m\u001b[43mbody\u001b[49m\u001b[38;5;241;43m=\u001b[39;49m\u001b[43mrequest\u001b[49m\u001b[38;5;241;43m.\u001b[39;49m\u001b[43mbody\u001b[49m\u001b[43m,\u001b[49m\n\u001b[1;32m    444\u001b[0m \u001b[43m        \u001b[49m\u001b[43mheaders\u001b[49m\u001b[38;5;241;43m=\u001b[39;49m\u001b[43mrequest\u001b[49m\u001b[38;5;241;43m.\u001b[39;49m\u001b[43mheaders\u001b[49m\u001b[43m,\u001b[49m\n\u001b[1;32m    445\u001b[0m \u001b[43m        \u001b[49m\u001b[43mredirect\u001b[49m\u001b[38;5;241;43m=\u001b[39;49m\u001b[38;5;28;43;01mFalse\u001b[39;49;00m\u001b[43m,\u001b[49m\n\u001b[1;32m    446\u001b[0m \u001b[43m        \u001b[49m\u001b[43massert_same_host\u001b[49m\u001b[38;5;241;43m=\u001b[39;49m\u001b[38;5;28;43;01mFalse\u001b[39;49;00m\u001b[43m,\u001b[49m\n\u001b[1;32m    447\u001b[0m \u001b[43m        \u001b[49m\u001b[43mpreload_content\u001b[49m\u001b[38;5;241;43m=\u001b[39;49m\u001b[38;5;28;43;01mFalse\u001b[39;49;00m\u001b[43m,\u001b[49m\n\u001b[1;32m    448\u001b[0m \u001b[43m        \u001b[49m\u001b[43mdecode_content\u001b[49m\u001b[38;5;241;43m=\u001b[39;49m\u001b[38;5;28;43;01mFalse\u001b[39;49;00m\u001b[43m,\u001b[49m\n\u001b[1;32m    449\u001b[0m \u001b[43m        \u001b[49m\u001b[43mretries\u001b[49m\u001b[38;5;241;43m=\u001b[39;49m\u001b[38;5;28;43mself\u001b[39;49m\u001b[38;5;241;43m.\u001b[39;49m\u001b[43mmax_retries\u001b[49m\u001b[43m,\u001b[49m\n\u001b[1;32m    450\u001b[0m \u001b[43m        \u001b[49m\u001b[43mtimeout\u001b[49m\u001b[38;5;241;43m=\u001b[39;49m\u001b[43mtimeout\u001b[49m\n\u001b[1;32m    451\u001b[0m \u001b[43m    \u001b[49m\u001b[43m)\u001b[49m\n\u001b[1;32m    453\u001b[0m \u001b[38;5;66;03m# Send the request.\u001b[39;00m\n\u001b[1;32m    454\u001b[0m \u001b[38;5;28;01melse\u001b[39;00m:\n",
      "File \u001b[0;32m/usr/lib/python3/dist-packages/urllib3/connectionpool.py:788\u001b[0m, in \u001b[0;36mHTTPConnectionPool.urlopen\u001b[0;34m(self, method, url, body, headers, retries, redirect, assert_same_host, timeout, pool_timeout, release_conn, chunked, body_pos, **response_kw)\u001b[0m\n\u001b[1;32m    786\u001b[0m     e \u001b[38;5;241m=\u001b[39m ProtocolError(\u001b[38;5;124m\"\u001b[39m\u001b[38;5;124mConnection aborted.\u001b[39m\u001b[38;5;124m\"\u001b[39m, e)\n\u001b[0;32m--> 788\u001b[0m retries \u001b[38;5;241m=\u001b[39m \u001b[43mretries\u001b[49m\u001b[38;5;241;43m.\u001b[39;49m\u001b[43mincrement\u001b[49m\u001b[43m(\u001b[49m\n\u001b[1;32m    789\u001b[0m \u001b[43m    \u001b[49m\u001b[43mmethod\u001b[49m\u001b[43m,\u001b[49m\u001b[43m \u001b[49m\u001b[43murl\u001b[49m\u001b[43m,\u001b[49m\u001b[43m \u001b[49m\u001b[43merror\u001b[49m\u001b[38;5;241;43m=\u001b[39;49m\u001b[43me\u001b[49m\u001b[43m,\u001b[49m\u001b[43m \u001b[49m\u001b[43m_pool\u001b[49m\u001b[38;5;241;43m=\u001b[39;49m\u001b[38;5;28;43mself\u001b[39;49m\u001b[43m,\u001b[49m\u001b[43m \u001b[49m\u001b[43m_stacktrace\u001b[49m\u001b[38;5;241;43m=\u001b[39;49m\u001b[43msys\u001b[49m\u001b[38;5;241;43m.\u001b[39;49m\u001b[43mexc_info\u001b[49m\u001b[43m(\u001b[49m\u001b[43m)\u001b[49m\u001b[43m[\u001b[49m\u001b[38;5;241;43m2\u001b[39;49m\u001b[43m]\u001b[49m\n\u001b[1;32m    790\u001b[0m \u001b[43m\u001b[49m\u001b[43m)\u001b[49m\n\u001b[1;32m    791\u001b[0m retries\u001b[38;5;241m.\u001b[39msleep()\n",
      "File \u001b[0;32m/usr/lib/python3/dist-packages/urllib3/util/retry.py:592\u001b[0m, in \u001b[0;36mRetry.increment\u001b[0;34m(self, method, url, response, error, _pool, _stacktrace)\u001b[0m\n\u001b[1;32m    591\u001b[0m \u001b[38;5;28;01mif\u001b[39;00m new_retry\u001b[38;5;241m.\u001b[39mis_exhausted():\n\u001b[0;32m--> 592\u001b[0m     \u001b[38;5;28;01mraise\u001b[39;00m MaxRetryError(_pool, url, error \u001b[38;5;129;01mor\u001b[39;00m ResponseError(cause))\n\u001b[1;32m    594\u001b[0m log\u001b[38;5;241m.\u001b[39mdebug(\u001b[38;5;124m\"\u001b[39m\u001b[38;5;124mIncremented Retry for (url=\u001b[39m\u001b[38;5;124m'\u001b[39m\u001b[38;5;132;01m%s\u001b[39;00m\u001b[38;5;124m'\u001b[39m\u001b[38;5;124m): \u001b[39m\u001b[38;5;132;01m%r\u001b[39;00m\u001b[38;5;124m\"\u001b[39m, url, new_retry)\n",
      "\u001b[0;31mMaxRetryError\u001b[0m: HTTPSConnectionPool(host='cybervidyapeeth.in', port=443): Max retries exceeded with url: /privacy-policy/about-cyberversity/ (Caused by NewConnectionError('<urllib3.connection.HTTPSConnection object at 0x7f71abfbc280>: Failed to establish a new connection: [Errno 101] Network is unreachable'))",
      "\nDuring handling of the above exception, another exception occurred:\n",
      "\u001b[0;31mConnectionError\u001b[0m                           Traceback (most recent call last)",
      "Cell \u001b[0;32mIn [1], line 45\u001b[0m\n\u001b[1;32m     42\u001b[0m site\u001b[38;5;241m=\u001b[39m\u001b[38;5;124m\"\u001b[39m\u001b[38;5;124mhttps://cybervidyapeeth.in\u001b[39m\u001b[38;5;124m\"\u001b[39m\n\u001b[1;32m     44\u001b[0m \u001b[38;5;66;03m# calling function\u001b[39;00m\n\u001b[0;32m---> 45\u001b[0m \u001b[43mscrape\u001b[49m\u001b[43m(\u001b[49m\u001b[43msite\u001b[49m\u001b[43m)\u001b[49m\n",
      "Cell \u001b[0;32mIn [1], line 36\u001b[0m, in \u001b[0;36mscrape\u001b[0;34m(site)\u001b[0m\n\u001b[1;32m     34\u001b[0m \u001b[38;5;66;03m# calling it self\u001b[39;00m\n\u001b[1;32m     35\u001b[0m site\u001b[38;5;241m=\u001b[39m\u001b[38;5;124m\"\u001b[39m\u001b[38;5;124mhttps://cybervidyapeeth.in\u001b[39m\u001b[38;5;124m\"\u001b[39m\n\u001b[0;32m---> 36\u001b[0m \u001b[43mscrape\u001b[49m\u001b[43m(\u001b[49m\u001b[43msite\u001b[49m\u001b[43m)\u001b[49m\n",
      "Cell \u001b[0;32mIn [1], line 23\u001b[0m, in \u001b[0;36mscrape\u001b[0;34m(site)\u001b[0m\n\u001b[1;32m     18\u001b[0m href \u001b[38;5;241m=\u001b[39m i\u001b[38;5;241m.\u001b[39mattrs[\u001b[38;5;124m'\u001b[39m\u001b[38;5;124mhref\u001b[39m\u001b[38;5;124m'\u001b[39m]\n\u001b[1;32m     20\u001b[0m \u001b[38;5;28;01mif\u001b[39;00m href\u001b[38;5;241m.\u001b[39mstartswith(\u001b[38;5;124m\"\u001b[39m\u001b[38;5;124m/\u001b[39m\u001b[38;5;124m\"\u001b[39m) \u001b[38;5;129;01mand\u001b[39;00m \u001b[38;5;28mlen\u001b[39m(href) \u001b[38;5;241m>\u001b[39m\u001b[38;5;241m=\u001b[39m \u001b[38;5;241m2\u001b[39m:\n\u001b[0;32m---> 23\u001b[0m     r \u001b[38;5;241m=\u001b[39m \u001b[43mrequests\u001b[49m\u001b[38;5;241;43m.\u001b[39;49m\u001b[43mget\u001b[49m\u001b[43m(\u001b[49m\u001b[43msite\u001b[49m\u001b[38;5;241;43m+\u001b[39;49m\u001b[43mhref\u001b[49m\u001b[43m)\u001b[49m\n\u001b[1;32m     24\u001b[0m     \u001b[38;5;28;01mif\u001b[39;00m r\u001b[38;5;241m.\u001b[39mstatus_code \u001b[38;5;241m==\u001b[39m \u001b[38;5;241m200\u001b[39m:\n\u001b[1;32m     25\u001b[0m         site \u001b[38;5;241m=\u001b[39m site\u001b[38;5;241m+\u001b[39mhref \n",
      "File \u001b[0;32m/usr/lib/python3/dist-packages/requests/api.py:75\u001b[0m, in \u001b[0;36mget\u001b[0;34m(url, params, **kwargs)\u001b[0m\n\u001b[1;32m     64\u001b[0m \u001b[38;5;28;01mdef\u001b[39;00m \u001b[38;5;21mget\u001b[39m(url, params\u001b[38;5;241m=\u001b[39m\u001b[38;5;28;01mNone\u001b[39;00m, \u001b[38;5;241m*\u001b[39m\u001b[38;5;241m*\u001b[39mkwargs):\n\u001b[1;32m     65\u001b[0m     \u001b[38;5;124mr\u001b[39m\u001b[38;5;124;03m\"\"\"Sends a GET request.\u001b[39;00m\n\u001b[1;32m     66\u001b[0m \n\u001b[1;32m     67\u001b[0m \u001b[38;5;124;03m    :param url: URL for the new :class:`Request` object.\u001b[39;00m\n\u001b[0;32m   (...)\u001b[0m\n\u001b[1;32m     72\u001b[0m \u001b[38;5;124;03m    :rtype: requests.Response\u001b[39;00m\n\u001b[1;32m     73\u001b[0m \u001b[38;5;124;03m    \"\"\"\u001b[39;00m\n\u001b[0;32m---> 75\u001b[0m     \u001b[38;5;28;01mreturn\u001b[39;00m \u001b[43mrequest\u001b[49m\u001b[43m(\u001b[49m\u001b[38;5;124;43m'\u001b[39;49m\u001b[38;5;124;43mget\u001b[39;49m\u001b[38;5;124;43m'\u001b[39;49m\u001b[43m,\u001b[49m\u001b[43m \u001b[49m\u001b[43murl\u001b[49m\u001b[43m,\u001b[49m\u001b[43m \u001b[49m\u001b[43mparams\u001b[49m\u001b[38;5;241;43m=\u001b[39;49m\u001b[43mparams\u001b[49m\u001b[43m,\u001b[49m\u001b[43m \u001b[49m\u001b[38;5;241;43m*\u001b[39;49m\u001b[38;5;241;43m*\u001b[39;49m\u001b[43mkwargs\u001b[49m\u001b[43m)\u001b[49m\n",
      "File \u001b[0;32m/usr/lib/python3/dist-packages/requests/api.py:61\u001b[0m, in \u001b[0;36mrequest\u001b[0;34m(method, url, **kwargs)\u001b[0m\n\u001b[1;32m     57\u001b[0m \u001b[38;5;66;03m# By using the 'with' statement we are sure the session is closed, thus we\u001b[39;00m\n\u001b[1;32m     58\u001b[0m \u001b[38;5;66;03m# avoid leaving sockets open which can trigger a ResourceWarning in some\u001b[39;00m\n\u001b[1;32m     59\u001b[0m \u001b[38;5;66;03m# cases, and look like a memory leak in others.\u001b[39;00m\n\u001b[1;32m     60\u001b[0m \u001b[38;5;28;01mwith\u001b[39;00m sessions\u001b[38;5;241m.\u001b[39mSession() \u001b[38;5;28;01mas\u001b[39;00m session:\n\u001b[0;32m---> 61\u001b[0m     \u001b[38;5;28;01mreturn\u001b[39;00m \u001b[43msession\u001b[49m\u001b[38;5;241;43m.\u001b[39;49m\u001b[43mrequest\u001b[49m\u001b[43m(\u001b[49m\u001b[43mmethod\u001b[49m\u001b[38;5;241;43m=\u001b[39;49m\u001b[43mmethod\u001b[49m\u001b[43m,\u001b[49m\u001b[43m \u001b[49m\u001b[43murl\u001b[49m\u001b[38;5;241;43m=\u001b[39;49m\u001b[43murl\u001b[49m\u001b[43m,\u001b[49m\u001b[43m \u001b[49m\u001b[38;5;241;43m*\u001b[39;49m\u001b[38;5;241;43m*\u001b[39;49m\u001b[43mkwargs\u001b[49m\u001b[43m)\u001b[49m\n",
      "File \u001b[0;32m/usr/lib/python3/dist-packages/requests/sessions.py:529\u001b[0m, in \u001b[0;36mSession.request\u001b[0;34m(self, method, url, params, data, headers, cookies, files, auth, timeout, allow_redirects, proxies, hooks, stream, verify, cert, json)\u001b[0m\n\u001b[1;32m    524\u001b[0m send_kwargs \u001b[38;5;241m=\u001b[39m {\n\u001b[1;32m    525\u001b[0m     \u001b[38;5;124m'\u001b[39m\u001b[38;5;124mtimeout\u001b[39m\u001b[38;5;124m'\u001b[39m: timeout,\n\u001b[1;32m    526\u001b[0m     \u001b[38;5;124m'\u001b[39m\u001b[38;5;124mallow_redirects\u001b[39m\u001b[38;5;124m'\u001b[39m: allow_redirects,\n\u001b[1;32m    527\u001b[0m }\n\u001b[1;32m    528\u001b[0m send_kwargs\u001b[38;5;241m.\u001b[39mupdate(settings)\n\u001b[0;32m--> 529\u001b[0m resp \u001b[38;5;241m=\u001b[39m \u001b[38;5;28;43mself\u001b[39;49m\u001b[38;5;241;43m.\u001b[39;49m\u001b[43msend\u001b[49m\u001b[43m(\u001b[49m\u001b[43mprep\u001b[49m\u001b[43m,\u001b[49m\u001b[43m \u001b[49m\u001b[38;5;241;43m*\u001b[39;49m\u001b[38;5;241;43m*\u001b[39;49m\u001b[43msend_kwargs\u001b[49m\u001b[43m)\u001b[49m\n\u001b[1;32m    531\u001b[0m \u001b[38;5;28;01mreturn\u001b[39;00m resp\n",
      "File \u001b[0;32m/usr/lib/python3/dist-packages/requests/sessions.py:645\u001b[0m, in \u001b[0;36mSession.send\u001b[0;34m(self, request, **kwargs)\u001b[0m\n\u001b[1;32m    642\u001b[0m start \u001b[38;5;241m=\u001b[39m preferred_clock()\n\u001b[1;32m    644\u001b[0m \u001b[38;5;66;03m# Send the request\u001b[39;00m\n\u001b[0;32m--> 645\u001b[0m r \u001b[38;5;241m=\u001b[39m \u001b[43madapter\u001b[49m\u001b[38;5;241;43m.\u001b[39;49m\u001b[43msend\u001b[49m\u001b[43m(\u001b[49m\u001b[43mrequest\u001b[49m\u001b[43m,\u001b[49m\u001b[43m \u001b[49m\u001b[38;5;241;43m*\u001b[39;49m\u001b[38;5;241;43m*\u001b[39;49m\u001b[43mkwargs\u001b[49m\u001b[43m)\u001b[49m\n\u001b[1;32m    647\u001b[0m \u001b[38;5;66;03m# Total elapsed time of the request (approximately)\u001b[39;00m\n\u001b[1;32m    648\u001b[0m elapsed \u001b[38;5;241m=\u001b[39m preferred_clock() \u001b[38;5;241m-\u001b[39m start\n",
      "File \u001b[0;32m/usr/lib/python3/dist-packages/requests/adapters.py:519\u001b[0m, in \u001b[0;36mHTTPAdapter.send\u001b[0;34m(self, request, stream, timeout, verify, cert, proxies)\u001b[0m\n\u001b[1;32m    515\u001b[0m     \u001b[38;5;28;01mif\u001b[39;00m \u001b[38;5;28misinstance\u001b[39m(e\u001b[38;5;241m.\u001b[39mreason, _SSLError):\n\u001b[1;32m    516\u001b[0m         \u001b[38;5;66;03m# This branch is for urllib3 v1.22 and later.\u001b[39;00m\n\u001b[1;32m    517\u001b[0m         \u001b[38;5;28;01mraise\u001b[39;00m SSLError(e, request\u001b[38;5;241m=\u001b[39mrequest)\n\u001b[0;32m--> 519\u001b[0m     \u001b[38;5;28;01mraise\u001b[39;00m \u001b[38;5;167;01mConnectionError\u001b[39;00m(e, request\u001b[38;5;241m=\u001b[39mrequest)\n\u001b[1;32m    521\u001b[0m \u001b[38;5;28;01mexcept\u001b[39;00m ClosedPoolError \u001b[38;5;28;01mas\u001b[39;00m e:\n\u001b[1;32m    522\u001b[0m     \u001b[38;5;28;01mraise\u001b[39;00m \u001b[38;5;167;01mConnectionError\u001b[39;00m(e, request\u001b[38;5;241m=\u001b[39mrequest)\n",
      "\u001b[0;31mConnectionError\u001b[0m: HTTPSConnectionPool(host='cybervidyapeeth.in', port=443): Max retries exceeded with url: /privacy-policy/about-cyberversity/ (Caused by NewConnectionError('<urllib3.connection.HTTPSConnection object at 0x7f71abfbc280>: Failed to establish a new connection: [Errno 101] Network is unreachable'))"
     ]
    }
   ],
   "source": [
    "from bs4 import BeautifulSoup\n",
    "import requests\n",
    "   \n",
    "# lists\n",
    "urls=[]\n",
    "   \n",
    "# function created\n",
    "def scrape(site):\n",
    "       \n",
    "    # getting the request from url\n",
    "    r = requests.get(site)\n",
    "       \n",
    "    # converting the text\n",
    "    s = BeautifulSoup(r.text,\"html.parser\")\n",
    "       \n",
    "    for i in s.find_all(\"a\"):\n",
    "          \n",
    "        href = i.attrs['href']\n",
    "           \n",
    "        if href.startswith(\"/\") and len(href) >= 2:\n",
    "            \n",
    "            \n",
    "            r = requests.get(site+href)\n",
    "            if r.status_code == 200:\n",
    "                site = site+href \n",
    "            else:\n",
    "                site = site\n",
    "             \n",
    "            \n",
    "               \n",
    "            if site not in  urls:\n",
    "                urls.append(site) \n",
    "                print(site)\n",
    "                # calling it self\n",
    "                site=\"https://cybervidyapeeth.in\"\n",
    "                scrape(site)\n",
    "   \n",
    "# main function\n",
    "if __name__ ==\"__main__\":\n",
    "   \n",
    "    # website to be scrape\n",
    "    site=\"https://cybervidyapeeth.in\"\n",
    "   \n",
    "    # calling function\n",
    "    scrape(site)\n",
    "#print(urls)\n",
    "\n"
   ]
  },
  {
   "cell_type": "code",
   "execution_count": null,
   "id": "0dfafc87",
   "metadata": {
    "scrolled": false
   },
   "outputs": [],
   "source": [
    "from urllib.request import urlopen\n",
    "from bs4 import BeautifulSoup\n",
    "url = 'http://cybervidyapeeth.in'\n",
    "html = urlopen(url)\n",
    "bs = BeautifulSoup(html.read(), 'html.parser')\n",
    "nameList = bs.find_all('link')\n",
    "for name in nameList:\n",
    "    if 'href' in name.attrs:\n",
    "        print(name.attrs['href'])"
   ]
  },
  {
   "cell_type": "markdown",
   "id": "dbd0a3d9",
   "metadata": {},
   "source": [
    "### pip install wget "
   ]
  },
  {
   "cell_type": "markdown",
   "id": "a9046821",
   "metadata": {},
   "source": [
    "# Downloading all png images at once"
   ]
  },
  {
   "cell_type": "code",
   "execution_count": null,
   "id": "eff5bfd5",
   "metadata": {},
   "outputs": [],
   "source": [
    "import wget\n",
    "from urllib.request import urlopen\n",
    "from bs4 import BeautifulSoup\n",
    "url = 'http://cybervidyapeeth.in'\n",
    "html = urlopen(url)\n",
    "img = []\n",
    "bs = BeautifulSoup(html.read(), 'html.parser')\n",
    "nameList = bs.find_all('link')\n",
    "for name in nameList:\n",
    "    if 'href' in name.attrs:\n",
    "        #print(name.attrs['href'])\n",
    "        if 'png' in name.attrs['href']:\n",
    "            img.append(name.attrs['href'])\n",
    "for i in img:\n",
    "    image_url = url+i\n",
    "    # Use wget download method to download specified image url.\n",
    "    image_filename = wget.download(image_url)\n",
    "\n",
    "    print('Image Successfully Downloaded: ', image_filename)"
   ]
  },
  {
   "cell_type": "markdown",
   "id": "2463ec63",
   "metadata": {},
   "source": [
    "# Extracting Emails From website\n"
   ]
  },
  {
   "cell_type": "code",
   "execution_count": null,
   "id": "d9991480",
   "metadata": {},
   "outputs": [],
   "source": [
    "import re\n",
    "from urllib.request import urlopen\n",
    "from bs4 import BeautifulSoup\n",
    "html = urlopen(\"https://cybervidyapeeth.in/\")\n",
    "bs = BeautifulSoup(html.read(), 'html.parser')\n",
    "text = bs.find_all(text = re.compile(\"([a-zA-Z0-9_.+-]+@[a-zA-Z0-9-]+\\.[a-zA-Z0-9-.]+)\"))\n",
    "for te in text:\n",
    "    print(te.get_text())\n"
   ]
  },
  {
   "cell_type": "markdown",
   "id": "ce2c10ce",
   "metadata": {},
   "source": [
    "## Crawling Emails From an Gov Website "
   ]
  },
  {
   "cell_type": "code",
   "execution_count": null,
   "id": "d674a3dc",
   "metadata": {},
   "outputs": [],
   "source": [
    "from urllib.request import urlopen\n",
    "from bs4 import BeautifulSoup\n",
    "html = urlopen(\"https://dopt.gov.in/posting-of-ias-officers-list\")\n",
    "bs = BeautifulSoup(html.read(), 'html.parser')\n",
    "emails = bs.find_all('td',{'class':'views-field views-field-field-email-feedback'})\n",
    "for email in emails:\n",
    "    \n",
    "    dot = email.get_text().replace('[dot]','.')\n",
    "    at = dot.replace( '[at]','.')\n",
    "    print(at)\n",
    "\n",
    "    \n"
   ]
  },
  {
   "cell_type": "markdown",
   "id": "936f70e6",
   "metadata": {},
   "source": [
    "## Writing all the extracted data into a csv"
   ]
  },
  {
   "cell_type": "code",
   "execution_count": null,
   "id": "0bc61493",
   "metadata": {},
   "outputs": [],
   "source": [
    "from urllib.request import urlopen\n",
    "from bs4 import BeautifulSoup\n",
    "from csv import writer\n",
    "\n",
    "with open('emails1337.csv', 'w', encoding='utf8', newline='\\n') as f:\n",
    "    thewriter = writer(f)\n",
    "    html = urlopen(\"https://dopt.gov.in/posting-of-ias-officers-list\")\n",
    "    bs = BeautifulSoup(html.read(), 'html.parser')\n",
    "    emails = bs.find_all('td',{'class':'views-field views-field-field-email-feedback'})\n",
    "    at = []\n",
    "    for email in emails:\n",
    "\n",
    "        dot = email.get_text().replace('[dot]','.')\n",
    "        at.append(dot.replace( '[at]','.').strip())\n",
    "        \n",
    "        \n",
    "    thewriter.writerow(at)\n",
    "  \n",
    "    "
   ]
  },
  {
   "cell_type": "markdown",
   "id": "4653219f",
   "metadata": {},
   "source": []
  },
  {
   "cell_type": "code",
   "execution_count": null,
   "id": "bfa80094",
   "metadata": {},
   "outputs": [],
   "source": [
    "import pandas as pd\n",
    "\n",
    "df = pd.read_csv('/home/rocky/emails1337.csv')\n",
    "\n",
    "df.transpose().head()"
   ]
  },
  {
   "cell_type": "code",
   "execution_count": null,
   "id": "4327f886",
   "metadata": {},
   "outputs": [],
   "source": []
  },
  {
   "cell_type": "code",
   "execution_count": null,
   "id": "5e5561a1",
   "metadata": {},
   "outputs": [],
   "source": []
  }
 ],
 "metadata": {
  "kernelspec": {
   "display_name": "Python 3 (ipykernel)",
   "language": "python",
   "name": "python3"
  },
  "language_info": {
   "codemirror_mode": {
    "name": "ipython",
    "version": 3
   },
   "file_extension": ".py",
   "mimetype": "text/x-python",
   "name": "python",
   "nbconvert_exporter": "python",
   "pygments_lexer": "ipython3",
   "version": "3.10.7"
  }
 },
 "nbformat": 4,
 "nbformat_minor": 5
}
